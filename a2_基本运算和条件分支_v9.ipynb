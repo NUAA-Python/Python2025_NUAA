{
 "cells": [
  {
   "cell_type": "markdown",
   "id": "fa912753-9959-4425-8102-9f0f7cfe76ee",
   "metadata": {},
   "source": [
    "<h2 style=\"font-family:'Microsoft YaHei'; font-size:24px; color:darkblue\">\n",
    "多行注释\n",
    "</h2> \n",
    "<span style=\"font-family:Microsoft YaHei; font-size:20px; color:black\">\n",
    "Python 实际上并没有专门的多行注释语法。<br>\n",
    "Python does not really have a syntax for multiline comments.<br>\n",
    "</span>"
   ]
  },
  {
   "cell_type": "markdown",
   "id": "59d5e47c-fd52-437d-a07d-3098b3223d47",
   "metadata": {},
   "source": [
    "<span style=\"font-family:Microsoft YaHei; font-size:20px; color:#800080\">\n",
    "方法 1：多用 #\n",
    "</span>"
   ]
  },
  {
   "cell_type": "code",
   "execution_count": 1,
   "id": "fe0be019-2483-4184-ba33-0b05869dea14",
   "metadata": {},
   "outputs": [
    {
     "name": "stdout",
     "output_type": "stream",
     "text": [
      "Hello, World!\n"
     ]
    }
   ],
   "source": [
    "#This is a comment\n",
    "#written in\n",
    "#more than just one line\n",
    "print(\"Hello, World!\")"
   ]
  },
  {
   "cell_type": "markdown",
   "id": "b9809c6d-e1fc-42c3-994e-d730a5b4e494",
   "metadata": {},
   "source": [
    "<span style=\"font-family:Microsoft YaHei; font-size:20px; color:black\">\n",
    "<span style=\"color:purple;\">方法 2：多行字符串</span><br>\n",
    "由于Python会自动忽略未赋给变量的字符串，您可以在代码中添加一个多行字符串（使用三引号），并将注释内容置于其中。<br>\n",
    "Since <span style=\"color:blue;\">Python will ignore string literals that are not assigned to a variable</span>, you can add a multiline string (triple quotes) in your code, and place your comment inside it.\n",
    "</span>"
   ]
  },
  {
   "cell_type": "code",
   "execution_count": 2,
   "id": "b349d585-972d-4679-af44-1db86c1c8bbe",
   "metadata": {},
   "outputs": [
    {
     "name": "stdout",
     "output_type": "stream",
     "text": [
      "Hello, World!\n"
     ]
    }
   ],
   "source": [
    "\"\"\"This is a comment\"\"\"\n",
    "print(\"Hello, World!\")"
   ]
  },
  {
   "cell_type": "code",
   "execution_count": 3,
   "id": "9f638851-9b4d-4e8a-9f75-076db9d34afb",
   "metadata": {},
   "outputs": [
    {
     "name": "stdout",
     "output_type": "stream",
     "text": [
      "Hello, World!\n"
     ]
    }
   ],
   "source": [
    "\"\"\"\n",
    "This is a comment\n",
    "written in\n",
    "more than just one line\n",
    "\"\"\"\n",
    "print(\"Hello, World!\")"
   ]
  },
  {
   "attachments": {},
   "cell_type": "markdown",
   "id": "3d88b9db-6e1b-4ca3-896c-92e8a5ee6e8a",
   "metadata": {},
   "source": [
    "<h1 style=\"font-family:'Microsoft YaHei'; font-size:36px; color:darkblue; text-align:center;\">\n",
    "算术运算、逻辑运算和分支语句\n",
    "</h1>"
   ]
  },
  {
   "cell_type": "markdown",
   "id": "ff14d2ce-cda5-4155-9ea7-41063f5951dd",
   "metadata": {},
   "source": [
    "<h2 style=\"font-family:'Microsoft YaHei'; font-size:30px; color:darkblue; text-align:center;\">\n",
    "算术运算\n",
    "</h1>"
   ]
  },
  {
   "cell_type": "markdown",
   "id": "719a44d6-b66e-4e24-958d-fbdc7923bdab",
   "metadata": {},
   "source": [
    "<h2 style=\"font-family:'Microsoft YaHei'; font-size:24px; color:darkblue\">\n",
    "算术运算符 Arithmetic operators\n",
    "</h2> "
   ]
  },
  {
   "attachments": {},
   "cell_type": "markdown",
   "id": "b9cf0e21-327a-45ca-86b3-0f69e3e180ad",
   "metadata": {},
   "source": [
    "<span style=\"font-family:Microsoft YaHei; font-size:20px; color:#800080\">\n",
    "Python 支持以下算术运算\n",
    "</span>\n",
    "<h2 style=\"font-family:'Microsoft YaHei'; font-size:20px; color:black; line-height: 1.5;\">\n",
    "+ &nbsp;&nbsp;&nbsp;加法<br>\t\t\t\t\t\n",
    "-\t&nbsp;&nbsp;&nbsp;减法(双操作数）， 取相反数（单操作数）<br>\t\t\t    \n",
    "*    &nbsp;&nbsp;&nbsp;乘法<br>\n",
    "/    &nbsp;&nbsp;&nbsp;除法 ，结果是小数。<span style=\"color:red\">即便能整除也是小数。</span><br>\n",
    "%    &nbsp;&nbsp;取模 (求余数）<br>\n",
    "//\t&nbsp;&nbsp;求商，结果取整数部分，不要余数<br>\n",
    "**    &nbsp;&nbsp;求幂\n",
    "</h2>"
   ]
  },
  {
   "attachments": {},
   "cell_type": "markdown",
   "id": "7011d70b-658c-4679-b84e-d1672d8a36d1",
   "metadata": {},
   "source": [
    "<h2 style=\"font-family:'Microsoft YaHei'; font-size:24px; color:darkblue\">\n",
    "算术表达式\n",
    "</h2> "
   ]
  },
  {
   "cell_type": "code",
   "execution_count": 4,
   "id": "ff8ddbfa-304a-4b4b-930e-720608f07855",
   "metadata": {},
   "outputs": [
    {
     "name": "stdout",
     "output_type": "stream",
     "text": [
      "7.5\n"
     ]
    }
   ],
   "source": [
    "a = (3+2)*(6-3)/2\n",
    "print(a)"
   ]
  },
  {
   "cell_type": "code",
   "execution_count": 5,
   "id": "284fbff2-3b59-45dc-ba17-53f9b783ae6f",
   "metadata": {},
   "outputs": [
    {
     "name": "stdout",
     "output_type": "stream",
     "text": [
      "2.0\n"
     ]
    }
   ],
   "source": [
    "print(16/8)"
   ]
  },
  {
   "cell_type": "code",
   "execution_count": 6,
   "id": "72f4c7b7-13a0-4110-97d5-32c780b5baba",
   "metadata": {},
   "outputs": [
    {
     "name": "stdout",
     "output_type": "stream",
     "text": [
      "2\n"
     ]
    }
   ],
   "source": [
    "print(10%8)"
   ]
  },
  {
   "cell_type": "code",
   "execution_count": 7,
   "id": "7f91693e-4000-461e-a9c9-ac625018a949",
   "metadata": {},
   "outputs": [
    {
     "name": "stdout",
     "output_type": "stream",
     "text": [
      "3\n"
     ]
    }
   ],
   "source": [
    "print(15//4)"
   ]
  },
  {
   "cell_type": "code",
   "execution_count": 8,
   "id": "a7852af3-a71e-4d43-b19e-de312a73e044",
   "metadata": {},
   "outputs": [
    {
     "name": "stdout",
     "output_type": "stream",
     "text": [
      "8\n"
     ]
    }
   ],
   "source": [
    "print(2**3)"
   ]
  },
  {
   "attachments": {},
   "cell_type": "markdown",
   "id": "2f67a225-b063-4b9f-a671-1f92f1a9814b",
   "metadata": {},
   "source": [
    "<h2 style=\"font-family:'Microsoft YaHei'; font-size:24px; color:darkblue\">\n",
    "算术表达式\n",
    "</h2> "
   ]
  },
  {
   "attachments": {},
   "cell_type": "markdown",
   "id": "893f1a29-9f68-419b-8f41-d5a84501b263",
   "metadata": {},
   "source": [
    "<span style=\"font-family:Microsoft YaHei; font-size:20px; color:#800080\">\n",
    "-x 相当于 0-x\n",
    "</span>   "
   ]
  },
  {
   "cell_type": "code",
   "execution_count": 9,
   "id": "d13a7582-b983-4f48-a032-0bf994b0e001",
   "metadata": {},
   "outputs": [
    {
     "name": "stdout",
     "output_type": "stream",
     "text": [
      "-10\n",
      "-30\n"
     ]
    }
   ],
   "source": [
    "a = 10\n",
    "print(-a)\t\n",
    "print(-a*3)\t#等价于 (–a)*3"
   ]
  },
  {
   "attachments": {},
   "cell_type": "markdown",
   "id": "5a035dc3-d40b-4c0b-a62e-65175ff8485c",
   "metadata": {},
   "source": [
    "<h2 style=\"font-family:'Microsoft YaHei'; font-size:24px; color:darkblue\">\n",
    "算术表达式\n",
    "</h2> "
   ]
  },
  {
   "cell_type": "markdown",
   "id": "3d60d126-2b3e-41de-ad60-3d230e98fede",
   "metadata": {},
   "source": [
    "<span style=\"font-family:Microsoft YaHei; font-size:20px; color:red\">\n",
    "有小数的算术表达式，结果就是小数\n",
    "</span>"
   ]
  },
  {
   "cell_type": "code",
   "execution_count": 10,
   "id": "dae52903-0d2d-4442-96eb-285d0b0b7dc8",
   "metadata": {},
   "outputs": [
    {
     "name": "stdout",
     "output_type": "stream",
     "text": [
      "5.0\n"
     ]
    }
   ],
   "source": [
    "z = 7.5 - 2.5\n",
    "print(z)"
   ]
  },
  {
   "cell_type": "code",
   "execution_count": 11,
   "id": "b289b725-d7d0-4a7d-93a5-fa082ee39b02",
   "metadata": {},
   "outputs": [
    {
     "name": "stdout",
     "output_type": "stream",
     "text": [
      "2.0\n"
     ]
    }
   ],
   "source": [
    "print(2+0*4.5)"
   ]
  },
  {
   "cell_type": "code",
   "execution_count": 12,
   "id": "19602618-6d42-44fd-9b5a-827d84006058",
   "metadata": {},
   "outputs": [
    {
     "name": "stdout",
     "output_type": "stream",
     "text": [
      "4.0\n"
     ]
    }
   ],
   "source": [
    "print(2+10/5)"
   ]
  },
  {
   "attachments": {},
   "cell_type": "markdown",
   "id": "221b9f23-d9bc-47e9-a1c4-8809ec451c1a",
   "metadata": {},
   "source": [
    "<h2 style=\"font-family:'Microsoft YaHei'; font-size:24px; color:darkblue\">\n",
    "单选题\n",
    "</h2> \n",
    "\n",
    "<pre style=\"font-family:'Consolas', 'Courier New', monospace; font-size:18px; background-color:white; padding:10px; border-radius:5px; border:1px solid #ddd; overflow-x:auto;\"><code>\n",
    "print(4+6/2)的结果是\n",
    "</code></pre>\n",
    "\n",
    "<h2 style=\"font-family:'Microsoft YaHei'; font-size:20px; color:black;\">\n",
    "选项：\n",
    "</h2>\n",
    "<ul style=\"font-family:'Microsoft YaHei'; font-size:20px; color:black; list-style-type: none; padding-left: 0; background-color:white;\">\n",
    "    <li>A) 7</li>\n",
    "    <!-- 移除了所有在未点击时突出显示答案的样式 -->\n",
    "    <li>B) 7.0</li>\n",
    "    <li>C) 5.0</li>\n",
    "    <li>D) 5</li>\n",
    "</ul>\n",
    "\n",
    "<!-- 使用 <details> 标签来隐藏和显示答案 -->\n",
    "<details style=\"font-family:'Microsoft YaHei'; margin-top: 20px; border: 1px solid #ccc; padding: 10px; border-radius: 5px; background-color:white;\">\n",
    "    <summary style=\"font-size: 20px; color: darkblue; cursor: pointer; font-weight: bold;\">\n",
    "        点击此处查看答案及解析\n",
    "    </summary>\n",
    "    <div style=\"margin-top: 10px;\">\n",
    "        <p style=\"font-size: 20px; color: darkgreen; margin-bottom: 5px;\">\n",
    "            <strong>正确答案：B) 7.0</strong>\n",
    "        </p>\n",
    "        <p style=\"font-size: 18px; color: black;\">\n",
    "            <strong>解析：</strong>\n",
    "            <ol style=\"margin-top: 5px; padding-left: 20px;\">\n",
    "                <li>根据运算符优先级，先执行除法。在Python 3中，<code>/</code> 运算符总是执行浮点数除法。</li>\n",
    "                <li>所以，<code>6 / 2</code> 的结果是 <code>3.0</code>。</li>\n",
    "                <li>接着执行加法：<code>4 + 3.0</code>。当整数与浮点数进行运算时，结果会自动提升为浮点数。</li>\n",
    "                <li>因此，<code>4 + 3.0</code> 的最终结果是 <code>7.0</code>。</li>\n",
    "            </ol>\n",
    "        </p>\n",
    "    </div>\n",
    "</details>\n"
   ]
  },
  {
   "cell_type": "code",
   "execution_count": 13,
   "id": "9ccd6c69-6fcc-4448-a096-325687bb533f",
   "metadata": {},
   "outputs": [
    {
     "name": "stdout",
     "output_type": "stream",
     "text": [
      "7.0\n"
     ]
    }
   ],
   "source": [
    "print(4+6/2)"
   ]
  },
  {
   "attachments": {},
   "cell_type": "markdown",
   "id": "aecbe1a5-a624-4bb4-bf81-4a124320c986",
   "metadata": {},
   "source": [
    "<h2 style=\"font-family:'Microsoft YaHei'; font-size:24px; color:darkblue\">\n",
    "算术运算符优先级\n",
    "</h2> \n",
    "<h2 style=\"font-family:'Microsoft YaHei'; font-size:20px; color:red; line-height: 1.5;\">\n",
    "第一级：&nbsp;&nbsp;&nbsp;**<br>\n",
    "第二级:&nbsp;&nbsp;&nbsp;&nbsp;&nbsp;-(求相反数) <br>\n",
    "第三级:&nbsp;&nbsp;&nbsp;&nbsp;&nbsp;*  /  //  %<br>\n",
    "第四级:&nbsp;&nbsp;&nbsp;&nbsp;&nbsp;+ -(减法)\n",
    "</h2>\n",
    "<h2 style=\"font-family:'Microsoft YaHei'; font-size:20px; color:black; line-height: 1.5;\">\n",
    "可以用( ) 指定计算顺序:  (3+4)*(1+2)<br>\n",
    "记不得优先级，就用 ( )\n",
    "</h2>"
   ]
  },
  {
   "attachments": {},
   "cell_type": "markdown",
   "id": "7deb5238-cd90-4e29-a9a0-9fc7e9b9f0fe",
   "metadata": {},
   "source": [
    "<h2 style=\"font-family:'Microsoft YaHei'; font-size:24px; color:darkblue; text-align:left;\">\n",
    "在计算的同时进行赋值 Assignment operators\n",
    "</h2>\n",
    "\n",
    "<table style=\"margin: 0 auto; border-collapse: collapse; font-family:'Microsoft YaHei'; font-size:20px; color:black; background-color:white;\">\n",
    "  <tr>\n",
    "    <td style=\"vertical-align: top; padding: 8px 20px;\">+=</td>\n",
    "    <td style=\"vertical-align: top; padding: 8px 20px;\">a += b &nbsp;&nbsp;&nbsp;&nbsp;&nbsp;&nbsp;等价于 a = a + b</td>\n",
    "  </tr>\n",
    "  <tr>\n",
    "    <td style=\"vertical-align: top; padding: 8px 20px;\">-=</td>\n",
    "    <td style=\"vertical-align: top; padding: 8px 20px;\">a -= b &nbsp;&nbsp;&nbsp;&nbsp;&nbsp;&nbsp;等价于 a = a - b</td>\n",
    "  </tr>\n",
    "  <tr>\n",
    "    <td style=\"vertical-align: top; padding: 8px 20px;\">*=</td>\n",
    "    <td style=\"vertical-align: top; padding: 8px 20px;\">a *= b &nbsp;&nbsp;&nbsp;&nbsp;&nbsp;&nbsp;等价于 a = a * b</td>\n",
    "  </tr>\n",
    "  <tr>\n",
    "    <td style=\"vertical-align: top; padding: 8px 20px;\">/=</td>\n",
    "    <td style=\"vertical-align: top; padding: 8px 20px;\">a /= b &nbsp;&nbsp;&nbsp;&nbsp;&nbsp;&nbsp;等价于 a = a / b</td>\n",
    "  </tr>\n",
    "  <tr>\n",
    "    <td style=\"vertical-align: top; padding: 8px 20px;\">%=</td>\n",
    "    <td style=\"vertical-align: top; padding: 8px 20px;\">a %= b &nbsp;&nbsp;&nbsp;&nbsp;&nbsp;&nbsp;等价于 a = a % b</td>\n",
    "  </tr>\n",
    "  <tr>\n",
    "    <td style=\"vertical-align: top; padding: 8px 20px;\">//=</td>\n",
    "    <td style=\"vertical-align: top; padding: 8px 20px;\">a //= b &nbsp;&nbsp;&nbsp;&nbsp;&nbsp;&nbsp;等价于 a = a // b</td>\n",
    "  </tr>\n",
    "  <tr>\n",
    "    <td style=\"vertical-align: top; padding: 8px 20px;\">**=</td>\n",
    "    <td style=\"vertical-align: top; padding: 8px 20px;\">a **= b &nbsp;&nbsp;&nbsp;&nbsp;&nbsp;&nbsp;等价于 a = a ** b</td>\n",
    "  </tr>\n",
    "</table>\n"
   ]
  },
  {
   "cell_type": "markdown",
   "id": "5156e325-3f4c-4e67-a44c-fb2b380e4ff7",
   "metadata": {},
   "source": [
    "<h2 style=\"font-family:'Microsoft YaHei'; font-size:24px; color:darkblue\">\n",
    "算术运算的同时赋值\n",
    "</h2>"
   ]
  },
  {
   "cell_type": "code",
   "execution_count": 14,
   "id": "6677b6c5-8add-459e-82a1-d0a484651b99",
   "metadata": {},
   "outputs": [
    {
     "name": "stdout",
     "output_type": "stream",
     "text": [
      "2.0\n"
     ]
    }
   ],
   "source": [
    "a = 6\n",
    "a/=3\n",
    "print(a)"
   ]
  },
  {
   "cell_type": "code",
   "execution_count": 15,
   "id": "d4aa8a21-a41f-47b9-8514-d3cd670b4a09",
   "metadata": {},
   "outputs": [
    {
     "name": "stdout",
     "output_type": "stream",
     "text": [
      "8.0\n"
     ]
    }
   ],
   "source": [
    "a**=3\n",
    "print(a)"
   ]
  },
  {
   "attachments": {},
   "cell_type": "markdown",
   "id": "d90e719a-5cd5-47b4-818f-0c96a392bd66",
   "metadata": {},
   "source": [
    "<h2 style=\"font-family:'Microsoft YaHei'; font-size:24px; color:darkblue\">\n",
    "常见问题或注意事项\n",
    "</h2>\n",
    "<span style=\"font-family:Microsoft YaHei; font-size:20px; color:red; line-height: 2;\">\n",
    "数学上的运算符号或代数式写法，不是拿到程序里就能直接用的！\n",
    "</span>\n",
    "<p style=\"font-family:'Microsoft YaHei'; font-size:20px; color:black; line-height: 2;\">\n",
    "比如 |x| 在程序里并不能求x的绝对值，而是没定义，会出错！<br>\n",
    "</p>"
   ]
  },
  {
   "cell_type": "code",
   "execution_count": 16,
   "id": "8877f5de-3a32-448b-b27c-1d5dcc2628b4",
   "metadata": {},
   "outputs": [
    {
     "name": "stdout",
     "output_type": "stream",
     "text": [
      "3\n"
     ]
    }
   ],
   "source": [
    "x=-3\n",
    "print(abs(x)) #absolute value, built-in function"
   ]
  },
  {
   "attachments": {},
   "cell_type": "markdown",
   "id": "9cdfbe8c-a435-4f1d-af79-504928417177",
   "metadata": {},
   "source": [
    "<h2 style=\"font-family:'Microsoft YaHei'; font-size:24px; color:darkblue\">\n",
    "常见问题或注意事项\n",
    "</h2>\n",
    "<span style=\"font-family:'Microsoft YaHei'; font-size:20px; color:black; line-height: 2;\">\n",
    "2(x+3)(4+x) 这样的表达式也不能在程序里写！<br>\n",
    "应该写：<br>\n",
    "2*(x+3)*(4+x) <br>  \n",
    "乘法就一定要用 '*' !\n",
    "</span>"
   ]
  },
  {
   "attachments": {},
   "cell_type": "markdown",
   "id": "3556247c-64ea-4f44-897f-68e9cae6a419",
   "metadata": {},
   "source": [
    "<h2 style=\"font-family:'Microsoft YaHei'; font-size:24px; color:darkblue\">\n",
    "常见问题或注意事项\n",
    "</h2>"
   ]
  },
  {
   "cell_type": "markdown",
   "id": "89dd626a-2ebe-431b-ab46-c1e4510f01a6",
   "metadata": {},
   "source": [
    "<span style=\"font-family:Microsoft YaHei; font-size:20px; color:red\">\n",
    "/ 表示数学运算里的除法 ÷ ，不是分数线\n",
    "</span><br><br>\n",
    "<span style=\"font-family:Microsoft YaHei; font-size:20px; color:black\">\n",
    "因此<br>\n",
    "a/b*c  是  a÷ b×c，不是a/(b*c)<br>\n",
    "</span>"
   ]
  },
  {
   "cell_type": "markdown",
   "id": "2e471263-6b49-4323-ab41-b3c965fad4f7",
   "metadata": {},
   "source": [
    "<h2 style=\"font-family:'Microsoft YaHei'; font-size:30px; color:darkblue; text-align:center;\">\n",
    "关系运算符<br><br>\n",
    "逻辑运算符<br><br>\n",
    "&nbsp;&nbsp;&nbsp;逻辑表达式\n",
    "</h1>"
   ]
  },
  {
   "attachments": {},
   "cell_type": "markdown",
   "id": "93903860-37fd-4c71-a83d-9357a9b1906b",
   "metadata": {},
   "source": [
    "<h2 style=\"font-family:'Microsoft YaHei'; font-size:24px; color:darkblue\">\n",
    "关系运算符 Comparison operators 和布尔bool类型\n",
    "</h2>\n",
    "<span style=\"font-family:'Microsoft YaHei'; font-size:20px; color:#800080;\">\n",
    "六种关系运算符用于比较大小\n",
    "</span><br>\n",
    "<span style=\"font-family:'Microsoft YaHei'; font-size:20px; color:black;\">\n",
    "相等  <span style=\"color:red;\">==</span><br>\n",
    "不等  <span style=\"color:red;\">!=</span><br>\n",
    "大于 <span style=\"color:red;\">></span><br>\n",
    "小于 <span style=\"color:red;\"><</span><br>\n",
    "大于等于  <span style=\"color:red;\">>=</span><br>\n",
    "小于等于  <span style=\"color:red;\"><=</span>\n",
    "</span>"
   ]
  },
  {
   "attachments": {},
   "cell_type": "markdown",
   "id": "c28851fe-7e50-4f00-b15d-1039c9bebed3",
   "metadata": {},
   "source": [
    "<span style=\"font-family:'Microsoft YaHei'; font-size:20px; color:#800080;\">\n",
    "== 比较的是值本身，而不是它们的布尔值<br>\n",
    "比较的结果是bool类型，成立则为True，反之为False<br>\n",
    "bool类型数据只有两种取值，<span style=\"color:red;\">True</span>或<span style=\"color:darkblue;\">False</span>\n",
    "</span>"
   ]
  },
  {
   "cell_type": "markdown",
   "id": "4081fb81-a314-4469-9fcd-986f9d8b6e61",
   "metadata": {},
   "source": [
    "<h2 style=\"font-family:'Microsoft YaHei'; font-size:24px; color:darkblue\">\n",
    "关系运算符和布尔bool类型\n",
    "</h2>"
   ]
  },
  {
   "cell_type": "code",
   "execution_count": 17,
   "id": "ff82ee25-ac62-4e6a-b7a6-15acab6ef345",
   "metadata": {},
   "outputs": [
    {
     "name": "stdout",
     "output_type": "stream",
     "text": [
      "True\n",
      "True\n"
     ]
    }
   ],
   "source": [
    "print(3 < 5)\n",
    "print(4 != 7) "
   ]
  },
  {
   "cell_type": "code",
   "execution_count": 18,
   "id": "e9dff8df-15cf-4f0e-9cd6-87e5ab31e825",
   "metadata": {},
   "outputs": [
    {
     "name": "stdout",
     "output_type": "stream",
     "text": [
      "True\n"
     ]
    }
   ],
   "source": [
    "a = 4\n",
    "print(2 < a < 6 < 8) \n",
    "#this is chained comparison (连锁比较) in many languages (C, Java, JavaScript, etc.)\n",
    "# All three comparisons are ANDed together:\n",
    "# (2 < a) and (a < 6) and (6 < 8)\n",
    "# True and True and True → True"
   ]
  },
  {
   "cell_type": "code",
   "execution_count": 19,
   "id": "625eb9cd-6544-4022-841c-79fc68954e10",
   "metadata": {},
   "outputs": [
    {
     "name": "stdout",
     "output_type": "stream",
     "text": [
      "True\n",
      "False\n"
     ]
    }
   ],
   "source": [
    "print(2 < a == 4 < 6)\n",
    "print(2 < a > 5)"
   ]
  },
  {
   "cell_type": "markdown",
   "id": "ff39222a-0f3c-47e3-9d40-02f6587097be",
   "metadata": {},
   "source": [
    "<span style=\"font-family:'Microsoft YaHei'; font-size:22px; color:red;line-height: 2;\">\n",
    "True 和1完全等价， False和0完全等价\n",
    "</span>"
   ]
  },
  {
   "cell_type": "code",
   "execution_count": 20,
   "id": "9c14aada-a82b-486b-aafc-1d49987842f8",
   "metadata": {},
   "outputs": [
    {
     "name": "stdout",
     "output_type": "stream",
     "text": [
      "True\n"
     ]
    }
   ],
   "source": [
    "a = True\n",
    "print(a == 1) "
   ]
  },
  {
   "attachments": {},
   "cell_type": "markdown",
   "id": "735a6c52-1a21-4298-983e-87eac9698e9d",
   "metadata": {},
   "source": [
    "<h2 style=\"font-family:'Microsoft YaHei'; font-size:24px; color:darkblue\">\n",
    "首字母大写的True和False\n",
    "</h2>\n",
    "<span style=\"font-family:'Microsoft YaHei'; font-size:20px; color:#800080;\">\n",
    "如果你使用小写字母，Python 会认为你是在创建名为 “true” 和 “false” 的变量。\n",
    "</span>"
   ]
  },
  {
   "cell_type": "code",
   "execution_count": 21,
   "id": "0ad0212b-3140-4acd-a93f-16634d23e4ff",
   "metadata": {},
   "outputs": [],
   "source": [
    "#a = true\n",
    "#print(a == 1)  "
   ]
  },
  {
   "cell_type": "code",
   "execution_count": 22,
   "id": "d7545c9c-fd56-4dd9-9867-8073ff62dfcc",
   "metadata": {},
   "outputs": [
    {
     "name": "stdout",
     "output_type": "stream",
     "text": [
      "True\n",
      "True\n",
      "False\n"
     ]
    }
   ],
   "source": [
    "a=4\n",
    "b = a < 6\n",
    "print(b)\t\t    \n",
    "print( b == 1)\n",
    "print( b == 2)"
   ]
  },
  {
   "cell_type": "code",
   "execution_count": 23,
   "id": "73f508fc-855c-47f3-8635-ae221d44dfa2",
   "metadata": {},
   "outputs": [
    {
     "name": "stdout",
     "output_type": "stream",
     "text": [
      "True\n"
     ]
    }
   ],
   "source": [
    "b = a > 6\n",
    "print( b == 0)\t\t    "
   ]
  },
  {
   "cell_type": "markdown",
   "id": "5ec6fe90-8c69-4aea-81fe-5a17716d90c7",
   "metadata": {},
   "source": [
    "<h2 style=\"font-family:'Microsoft YaHei'; font-size:24px; color:darkblue\">\n",
    "关系运算符和布尔bool类型\n",
    "</h2>"
   ]
  },
  {
   "cell_type": "markdown",
   "id": "99c3606d-60da-41d5-9b2d-f36888583b7d",
   "metadata": {},
   "source": [
    "<span style=\"font-family:Microsoft YaHei; font-size:20px; color:black\">\n",
    "字符串可以通过关系运算符比较大小。字符串里的每个字符都由2个字节的Unicode编码表示，编码就是一个整数。<br>\n",
    "<span style=\"color:red;\">两个字符串比大小，就是逐个字符的编码比大小，直到分出胜负。</span><br>\n",
    "因为大小写字母编码不一样，因此字符串比大小时，大小写是有区别的。\n",
    "</span>"
   ]
  },
  {
   "cell_type": "code",
   "execution_count": 24,
   "id": "e50eabf4-8459-4305-9d49-ab577a314bb3",
   "metadata": {},
   "outputs": [
    {
     "name": "stdout",
     "output_type": "stream",
     "text": [
      "True\n"
     ]
    }
   ],
   "source": [
    "a = \"k\"\t\t\t\n",
    "print(a == \"k\")\t\t\t   "
   ]
  },
  {
   "cell_type": "code",
   "execution_count": 25,
   "id": "43ca7ce3-00f7-4467-a0a7-4bb4291ce8c4",
   "metadata": {},
   "outputs": [
    {
     "name": "stdout",
     "output_type": "stream",
     "text": [
      "True\n",
      "False\n"
     ]
    }
   ],
   "source": [
    "a = \"abc\"\n",
    "print(a == \"abc\")\t\t\t\n",
    "print(a == \"Abc\")\t\t\t"
   ]
  },
  {
   "cell_type": "code",
   "execution_count": 26,
   "id": "a97e1c27-93a9-46c3-b483-f74493928049",
   "metadata": {},
   "outputs": [
    {
     "name": "stdout",
     "output_type": "stream",
     "text": [
      "True\n",
      "True\n"
     ]
    }
   ],
   "source": [
    "print( \"abc\" < \"acd\")\n",
    "print(\"abc\" > \"Abc\")"
   ]
  },
  {
   "attachments": {},
   "cell_type": "markdown",
   "id": "e6933f2b-8744-4060-b53d-596b8a7efa14",
   "metadata": {},
   "source": [
    "<h2 style=\"font-family:'Microsoft YaHei'; font-size:24px; color:darkblue\">\n",
    "逻辑运算符 Logical operators 和逻辑表达式\n",
    "</h2>\n",
    "<span style=\"font-family:Microsoft YaHei; font-size:20px; color:#800080\">\n",
    "逻辑运算符用于表达式的逻辑操作，有 and  or  not 三种，操作的结果是True或False<br>\n",
    "<li>and&nbsp;&nbsp;&nbsp;&nbsp;与</li>\n",
    "<li>or&nbsp;&nbsp;&nbsp;&nbsp;&nbsp;&nbsp;或</li> \n",
    "<li>not&nbsp;&nbsp;&nbsp;&nbsp;非</li>\n",
    "</span><br>\n",
    "<span style=\"font-family:Microsoft YaHei; font-size:20px; color:black; line-height: 1.5;\">\n",
    "与:   exp1 <span style=\"color:red;\">and</span> exp2  \n",
    "<br>\n",
    "&nbsp;&nbsp;&nbsp;&nbsp;&nbsp;&nbsp;当且仅当 exp1 和 exp2 的值都为True（<span style=\"color:blue;\">或相当于True</span>）时，结果为True（<span style=\"color:blue;\">或相当于True</span>)\n",
    "</span>"
   ]
  },
  {
   "attachments": {},
   "cell_type": "markdown",
   "id": "6dd8719a-f642-4471-93fb-edfd6ec3adb6",
   "metadata": {},
   "source": [
    "<h2 style=\"font-family:'Microsoft YaHei'; font-size:24px; color:darkblue\">\n",
    "逻辑运算符和逻辑表达式\n",
    "</h2>\n",
    "<span style=\"font-family:Microsoft YaHei; font-size:20px; color:#800080\">\n",
    "逻辑表达式是<span style=\"color:red;\">短路计算</span>的，即对逻辑表达式的计算，在整个表达式的值已经能够断定的时候即会停止\n",
    "</span><br><br>\n",
    "<span style=\"font-family:Microsoft YaHei; font-size:20px; color:black; line-height: 2;\">\n",
    "exp1 and  exp2  ： 如果已经算出表达式exp1为假，那么整个表达式的值肯定为假，于是表达式exp2就不需要再计算\n",
    "</span>"
   ]
  },
  {
   "cell_type": "code",
   "execution_count": 27,
   "id": "123cdfa2-f8e8-4012-bbdb-deaace226bed",
   "metadata": {},
   "outputs": [
    {
     "name": "stdout",
     "output_type": "stream",
     "text": [
      "False\n",
      "True\n"
     ]
    }
   ],
   "source": [
    "n = 4\n",
    "print(n > 4 and n < 5) \n",
    "print(n >= 2 and n < 5 and n%2 == 0) "
   ]
  },
  {
   "attachments": {},
   "cell_type": "markdown",
   "id": "cc8b4873-be61-4716-b619-6ef83fa06684",
   "metadata": {},
   "source": [
    "<h2 style=\"font-family:'Microsoft YaHei'; font-size:22px; color:darkblue\">\n",
    "在<span style=\"color:red;\">逻辑运算</span>（“与”，“或”，“非”）中，什么相当于True或False？\n",
    "</h2>\n",
    "<div style=\"font-family:'Microsoft YaHei'; font-size:20px; color:black; line-height: 1.2;\">\n",
    "<li><span style=\"color:red;\">0</span>， <span style=\"color:red;\">\"\"</span>(空字符串）, <span style=\"color:red;\">[]</span> (空表), <span style=\"color:red;\">None</span> 都相当于False（<span style=\"color:red;\">但除0以外，都不等于False</span>)</li><br>\n",
    "<li>非0的数，非空的字符串和非空列表，都相当于True（<span style=\"color:red;\">但除1以外，都不等于True</span>)</li>\n",
    "</div>"
   ]
  },
  {
   "cell_type": "code",
   "execution_count": 28,
   "id": "745a8210-09cb-4fb3-a1d1-cf4e8af5eccf",
   "metadata": {},
   "outputs": [
    {
     "name": "stdout",
     "output_type": "stream",
     "text": [
      "False\n",
      "True\n"
     ]
    }
   ],
   "source": [
    "print(5 and False)   \n",
    "print(4 and True)   "
   ]
  },
  {
   "cell_type": "code",
   "execution_count": 29,
   "id": "a8cdf36c-7f5c-4c64-930e-baf1ce3ff87b",
   "metadata": {},
   "outputs": [
    {
     "name": "stdout",
     "output_type": "stream",
     "text": [
      "True\n",
      "False\n",
      "False\n"
     ]
    }
   ],
   "source": [
    "print(1 == True)\n",
    "print(5 == True)\n",
    "print([2,3] == True)"
   ]
  },
  {
   "cell_type": "code",
   "execution_count": 30,
   "id": "e2333fea-0ea4-4078-b277-51f66a9eace7",
   "metadata": {},
   "outputs": [
    {
     "name": "stdout",
     "output_type": "stream",
     "text": [
      "True\n",
      "False\n",
      "False\n"
     ]
    }
   ],
   "source": [
    "print(0 == False)\n",
    "print(\"\" == False)\n",
    "print([] == False)"
   ]
  },
  {
   "cell_type": "markdown",
   "id": "20437a1a-7246-4cb9-9a2a-90c732baa1c4",
   "metadata": {},
   "source": [
    "<h2 style=\"font-family:'Microsoft YaHei'; font-size:24px; color:darkblue\">\n",
    "Python保留字：None\n",
    "</h2>\n",
    "<span style=\"font-family:'Microsoft YaHei'; font-size:20px; color:black\">\n",
    "None是Python的保留字，表达<span style=\"color:red;\">无、没有、空</span>等含义。None不是False，不表示0，不表示空字符串，不对应任何数值。\n",
    "</span> "
   ]
  },
  {
   "cell_type": "code",
   "execution_count": 31,
   "id": "1195f6be-0c20-48ee-9c65-baa1bbca7109",
   "metadata": {},
   "outputs": [
    {
     "name": "stdout",
     "output_type": "stream",
     "text": [
      "Hello World\n",
      "True\n"
     ]
    },
    {
     "data": {
      "text/plain": [
       "NoneType"
      ]
     },
     "execution_count": 31,
     "metadata": {},
     "output_type": "execute_result"
    }
   ],
   "source": [
    "a = print(\"Hello World\")\n",
    "print(a==None)\n",
    "type(a)"
   ]
  },
  {
   "cell_type": "markdown",
   "id": "a255bddd-d8e8-41d3-9eef-b9c49a9ee5d2",
   "metadata": {},
   "source": [
    "<span style=\"font-family:'Microsoft YaHei'; font-size:20px; color:black\">\n",
    "print() 函数运行后并不返回任何内容，因此，变量a的值是空。<br>\n",
    "作为程序设计逻辑完整性要求，需要用某个值赋值给变量a，这就是None。可见，<span style=\"color:red;\">None主要用来弥补程序中需要表达空含义的逻辑。</span \n",
    "</span> "
   ]
  },
  {
   "attachments": {},
   "cell_type": "markdown",
   "id": "5a1910cb-eb83-48dc-af57-7560d69950a8",
   "metadata": {},
   "source": [
    "<h2 style=\"font-family:'Microsoft YaHei'; font-size:24px; color:darkblue\">\n",
    "逻辑运算符和逻辑表达式\n",
    "</h2>"
   ]
  },
  {
   "attachments": {},
   "cell_type": "markdown",
   "id": "5557c018-b96f-482b-b910-5f67fca7a1cd",
   "metadata": {},
   "source": [
    "<h2 style=\"font-family:'Microsoft YaHei'; font-size:20px; color:black; line-height: 1.5;\">\n",
    "或 :    exp1 <span style=\"color:red;\">or</span> exp2   \n",
    "<br><br>\n",
    "&nbsp;&nbsp;&nbsp;&nbsp;&nbsp;&nbsp;当且仅当exp1和exp2的值都为False（或相当于False）时，结果为False （或相当于False）\n",
    "</h2>"
   ]
  },
  {
   "attachments": {},
   "cell_type": "markdown",
   "id": "a76ddf77-7c1c-47f5-859c-e28e107bb24d",
   "metadata": {},
   "source": [
    "<span style=\"font-family:Microsoft YaHei; font-size:20px; color:black; line-height: 2;\">\n",
    "<span style=\"color:red;\">短路计算：</span>\n",
    "<br>\n",
    "&nbsp;&nbsp;&nbsp;&nbsp;&nbsp;&nbsp;&nbsp;exp1 or exp2   ：如果已经算出exp1为真，那么整个表达式必定为真，于是exp2也不必计算。\n",
    "</span>"
   ]
  },
  {
   "cell_type": "code",
   "execution_count": 32,
   "id": "91a6a1cf-8d9b-4d83-ab24-39fbe6def47f",
   "metadata": {},
   "outputs": [
    {
     "name": "stdout",
     "output_type": "stream",
     "text": [
      "True\n",
      "False\n"
     ]
    }
   ],
   "source": [
    "n = 4\n",
    "print(n > 4 or n < 5)\n",
    "print(n <= 2 or n > 5) "
   ]
  },
  {
   "attachments": {},
   "cell_type": "markdown",
   "id": "b596e58f-03a7-40e4-b7a0-6a7c4c479929",
   "metadata": {},
   "source": [
    "<h2 style=\"font-family:'Microsoft YaHei'; font-size:24px; color:darkblue\">\n",
    "逻辑运算符和逻辑表达式\n",
    "</h2>"
   ]
  },
  {
   "cell_type": "markdown",
   "id": "d49152f6-5dfe-4099-8abe-b0017b081606",
   "metadata": {},
   "source": [
    "<span style=\"font-family:'Microsoft YaHei'; font-size:20px; color:black; line-height: 1.5;\">\n",
    "非 :  <span style=\"color:red;\">not</span> expression<br><br>\n",
    "&nbsp;&nbsp;&nbsp;&nbsp;&nbsp;&nbsp;expression值为True (或相当于True)时, 结果为False (或相当于False)<br><br>\n",
    "&nbsp;&nbsp;&nbsp;&nbsp;&nbsp;&nbsp;expression值为False (或相当于False)时, 结果为True (或相当于True)）\n",
    "</span>"
   ]
  },
  {
   "cell_type": "code",
   "execution_count": 33,
   "id": "c8b53ba8-e130-433b-8c03-a85c106356bd",
   "metadata": {},
   "outputs": [
    {
     "name": "stdout",
     "output_type": "stream",
     "text": [
      "False\n"
     ]
    }
   ],
   "source": [
    "print(not 4 < 5)"
   ]
  },
  {
   "cell_type": "code",
   "execution_count": 34,
   "id": "e545a9e9-23ef-41db-a4c7-f3ea2697dd95",
   "metadata": {},
   "outputs": [
    {
     "name": "stdout",
     "output_type": "stream",
     "text": [
      "False\n",
      "False\n",
      "False\n"
     ]
    }
   ],
   "source": [
    "print(not 5)\n",
    "print(not \"abc\")\n",
    "print(not [1])"
   ]
  },
  {
   "cell_type": "code",
   "execution_count": 35,
   "id": "c201c64e-4d2f-40f4-aac2-1a8fa5adbdd7",
   "metadata": {},
   "outputs": [
    {
     "name": "stdout",
     "output_type": "stream",
     "text": [
      "True\n",
      "True\n",
      "True\n"
     ]
    }
   ],
   "source": [
    "print(not 0)\n",
    "print(not \"\")\n",
    "print(not [])"
   ]
  },
  {
   "attachments": {},
   "cell_type": "markdown",
   "id": "941586c4-25bf-40c2-b107-6860b3e3a1d6",
   "metadata": {},
   "source": [
    "<h2 style=\"font-family:'Microsoft YaHei'; font-size:24px; color:darkblue\">\n",
    "各种运算符的优先级\n",
    "</h2>\n",
    "<span style=\"font-family:Microsoft YaHei; font-size:20px; color:#800080\">\n",
    "从高到低：\n",
    "</span><br>\n",
    "  \n",
    "<span style=\"font-family:Microsoft YaHei; font-size:20px; color:black; line-height: 2;\">\n",
    "算术运算符   + - * / // % **\n",
    "<br>\n",
    " 关系运算符   < >  ==  !=  <=  >=\n",
    "<br>\n",
    " 逻辑运算符\tand  or  not\n",
    "<br>\n",
    "赋值运算符\t=\n",
    "<br>\n",
    "</span>\n",
    "<h2 style=\"font-family:'Microsoft YaHei'; font-size:20px; color:red;\">\n",
    "记不得就勤用 ( )\n",
    "</h2>"
   ]
  },
  {
   "cell_type": "code",
   "execution_count": 36,
   "id": "993c4e50-25ce-4ad8-b710-2ed13ae09e82",
   "metadata": {},
   "outputs": [
    {
     "name": "stdout",
     "output_type": "stream",
     "text": [
      "False\n"
     ]
    }
   ],
   "source": [
    "print( 3 + 2 < 5 )"
   ]
  },
  {
   "cell_type": "code",
   "execution_count": 37,
   "id": "aa8121ee-a8c8-47f1-b5c8-26d98f53530d",
   "metadata": {},
   "outputs": [
    {
     "name": "stdout",
     "output_type": "stream",
     "text": [
      "4\n"
     ]
    }
   ],
   "source": [
    "print( 3 + (2 < 5))\t#因 2 < 5结果为True，等价为1"
   ]
  },
  {
   "cell_type": "markdown",
   "id": "10af7d36-7932-41cc-a94f-657c86e23b88",
   "metadata": {},
   "source": [
    "<h2 style=\"font-family:'Microsoft YaHei'; font-size:24px; color:darkblue\">\n",
    "逻辑运算符的优先级\n",
    "</h2>"
   ]
  },
  {
   "cell_type": "markdown",
   "id": "5c0b75e7-4067-4140-99bd-17633255e548",
   "metadata": {},
   "source": [
    "<h2 style=\"font-family:'Microsoft YaHei'; font-size:20px; color:red; line-height: 1.5;\">\n",
    "第一级：&nbsp;not<br>\n",
    "第二级:&nbsp;&nbsp;&nbsp;and <br>\n",
    "第三级:&nbsp;&nbsp;&nbsp;or\n",
    "</h2>"
   ]
  },
  {
   "cell_type": "code",
   "execution_count": 38,
   "id": "d47124ac-b7a1-4d57-9d62-75fb1202fc5b",
   "metadata": {},
   "outputs": [
    {
     "name": "stdout",
     "output_type": "stream",
     "text": [
      "False\n"
     ]
    }
   ],
   "source": [
    "print(not 4 < 5 and 4 > 6)\n",
    "# 4<5  4>6\n",
    "#not True and False\n",
    "#False and False"
   ]
  },
  {
   "cell_type": "code",
   "execution_count": 39,
   "id": "bbd1b2ac-5e08-4119-bf44-9b0cfe98d1f2",
   "metadata": {},
   "outputs": [
    {
     "name": "stdout",
     "output_type": "stream",
     "text": [
      "True\n"
     ]
    }
   ],
   "source": [
    "print(3 < 4 or 4 > 5 and 1 > 2 )\n",
    "#3 < 4  4 > 5  1 > 2\n",
    "#True or False and False\n",
    "#True or False"
   ]
  },
  {
   "cell_type": "code",
   "execution_count": 40,
   "id": "d26bc9b0-5861-4364-9bc7-6a963ee89e07",
   "metadata": {},
   "outputs": [
    {
     "name": "stdout",
     "output_type": "stream",
     "text": [
      "False\n"
     ]
    }
   ],
   "source": [
    "print((3 < 4 or 4 > 5) and 1 > 2 )"
   ]
  },
  {
   "cell_type": "markdown",
   "id": "a84803a7-6c0e-4338-a535-64d16e2006db",
   "metadata": {},
   "source": [
    "<h2 style=\"font-family:'Microsoft YaHei'; font-size:24px; color:darkblue\">\n",
    "逻辑运算符和逻辑表达式\n",
    "</h2>"
   ]
  },
  {
   "cell_type": "markdown",
   "id": "739aad7d-a1cc-4093-a993-fe6a995f15e4",
   "metadata": {},
   "source": [
    "<h2 style=\"font-family:'Microsoft YaHei'; font-size:24px; color:darkblue\">\n",
    "单选题\n",
    "</h2> \n",
    "<h2 style=\"font-family:'Microsoft YaHei'; font-size:20px; color:black;\">\n",
    "以下程序输出几个True\n",
    "</h2>\n",
    "<pre style=\"font-family:'Consolas', 'Courier New', monospace; font-size:18px; background-color:white; padding:10px; border-radius:5px; border:1px solid #ddd; overflow-x:auto;\"><code>\n",
    "print( [] == False)\n",
    "print( not [])\n",
    "print( 0 == False)\n",
    "print( 1 == True)\n",
    "print( not \"\")\n",
    "</code></pre>\n",
    "\n",
    "<h2 style=\"font-family:'Microsoft YaHei'; font-size:20px; color:black;\">\n",
    "选项：\n",
    "</h2>\n",
    "<ul style=\"font-family:'Microsoft YaHei'; font-size:20px; color:black; list-style-type: none; padding-left: 0; background-color:white;\">\n",
    "    <li>A) 5</li>\n",
    "    <li>B) 4</li>\n",
    "    <li>C) 3</li>\n",
    "    <li>D) 2</li>\n",
    "</ul>\n",
    "\n",
    "<!-- 使用 <details> 标签来隐藏和显示答案 -->\n",
    "<details style=\"font-family:'Microsoft YaHei'; margin-top: 20px; border: 1px solid #ccc; padding: 10px; border-radius: 5px; background-color:white;\">\n",
    "    <summary style=\"font-size: 20px; color: darkblue; cursor: pointer; font-weight: bold;\">\n",
    "        点击此处查看答案及解析\n",
    "    </summary>\n",
    "    <div style=\"margin-top: 10px;\">\n",
    "        <p style=\"font-size: 20px; color: darkgreen; margin-bottom: 5px;\">\n",
    "            <strong>正确答案：B) 4</strong>\n",
    "        </p>\n",
    "        <p style=\"font-size: 18px; color: black;\">\n",
    "            <strong>解析：</strong>\n",
    "            <ol style=\"margin-top: 5px; padding-left: 20px;\">\n",
    "                <li><code>print( [] == False)</code>: 空列表 <code>[]</code> 在Python中，它**不等于** <code>False</code>。所以输出 <code>False</code>。</li>\n",
    "                <li><code>print( not [])</code>: <code>not</code> 运算符判断其操作数的布尔值。空列表 <code>[]</code> 的布尔值为 <code>False</code>，所以 <code>not False</code> 输出 <code>True</code>。</li>\n",
    "                <li><code>print( 0 == False)</code>: 在Python中，整数 <code>0</code> 数值上等于布尔值 <code>False</code>。所以输出 <code>True</code>。</li>\n",
    "                <li><code>print( 1 == True)</code>: 在Python中，整数 <code>1</code> 数值上等于布尔值 <code>True</code>。所以输出 <code>True</code>。</li>\n",
    "                <li><code>print( not \"\")</code>: 空字符串 <code>\"\"</code> 的布尔值为 <code>False</code>，所以 <code>not False</code> 输出 <code>True</code>。</li>\n",
    "            </ol>\n",
    "            总共有 4 个 <code>True</code> 输出。\n",
    "        </p>\n",
    "    </div>\n",
    "</details>\n"
   ]
  },
  {
   "cell_type": "code",
   "execution_count": 41,
   "id": "75a81201-d7ab-4700-a00d-f9088348355f",
   "metadata": {},
   "outputs": [
    {
     "name": "stdout",
     "output_type": "stream",
     "text": [
      "False\n",
      "True\n",
      "True\n",
      "True\n",
      "True\n"
     ]
    }
   ],
   "source": [
    "print( [] == False)\n",
    "print( not [])\n",
    "print( 0 == False)\n",
    "print( 1 == True)\n",
    "print( not \"\")"
   ]
  },
  {
   "cell_type": "markdown",
   "id": "8f5e809a-a3b7-40a1-b8e0-bc4f02b1c541",
   "metadata": {},
   "source": [
    "<h2 style=\"font-family:'Microsoft YaHei'; font-size:30px; color:darkblue; text-align:center;\">\n",
    "条件分支语句 Branching Statements<br>\n",
    "if 语句 If-Else Statements\n",
    "</h1>"
   ]
  },
  {
   "cell_type": "markdown",
   "id": "d2c72579-85b4-41a7-8929-fe3b8df9592a",
   "metadata": {},
   "source": [
    "<h2 style=\"font-family:'Microsoft YaHei'; font-size:24px; color:darkblue\">\n",
    "条件分支语句\n",
    "</h2>\n",
    "<span style=\"font-family:Microsoft YaHei; font-size:20px; color:black\">\n",
    "有时，并非所有的程序语句都要被顺序执行到，会希望满足某种条件就执行这部分语句，满足另一条件就执行另一部分语句。这就需要“条件分支语句”\n",
    "</span> "
   ]
  },
  {
   "attachments": {},
   "cell_type": "markdown",
   "id": "b378d7c1-ed48-4397-9c66-70a7d639526f",
   "metadata": {},
   "source": [
    "<div align=\"center\">\n",
    "<pre style=\"font-family:'Microsoft YaHei', monospace; font-size:20px; background-color:#FFF0E0; color:#333; padding:15px; border-radius:5px; overflow-x:auto; display:inline-block; text-align:left;\">\n",
    "<code>\n",
    "if 表达式1<span style=\"color:red;\">:</span>\n",
    "    语句组1\n",
    "elif 表达式2<span style=\"color:red;\">:</span>\n",
    "    语句组2\n",
    "    <span style=\"color:#333;\">...</span> <span style=\"color:#008000;\"># 可以有多种个 elif</span>\n",
    "elif 表达式n<span style=\"color:red;\">:</span>\n",
    "    语句组n\n",
    "else<span style=\"color:red;\">:</span>\n",
    "    语句组n+1\n",
    "</code>\n",
    "</pre>\n",
    "</div>"
   ]
  },
  {
   "cell_type": "markdown",
   "id": "e42ce276-ffff-4347-ba1e-9676f26cf60c",
   "metadata": {},
   "source": [
    "<span style=\"font-family:Microsoft YaHei; font-size:20px; color:#800080;line-height:2\">\n",
    "&nbsp;&nbsp;&nbsp;&nbsp;&nbsp;&nbsp;依次计算表达式1、表达式2…只要碰到一个表达式i为真，则执行语句组i（前面为假的表达式对应的语句组不会被执行），<span style=\"color:red;\">且后面的表达式不再计算</span>，后面的语句组也都不会被执行。<br>\n",
    "&nbsp;&nbsp;&nbsp;&nbsp;&nbsp;&nbsp;若所有表达式都为假，则执行语句组n+1<br>\n",
    "&nbsp;&nbsp;&nbsp;&nbsp;&nbsp;&nbsp;每个语句组需要缩进。<span style=\"color:red\">注意，缩进的前一行末尾有 ' :'。\n",
    "</span> \n",
    "</span> "
   ]
  },
  {
   "cell_type": "markdown",
   "id": "90d37096-4ee5-4099-8c22-3ae8ab829baf",
   "metadata": {},
   "source": [
    "<h2 style=\"font-family:'Microsoft YaHei'; font-size:24px; color:darkblue\">\n",
    "Spaces, not Tabs\n",
    "</h2>\n",
    "<span style=\"font-family:Microsoft YaHei; font-size:20px; color:black\">   \n",
    "    <ul>\n",
    "        <li>编写代码时应始终使用<span style=\"color:red;\">四个空格</span>进行缩进（<span style=\"color:red;\">推荐缩进方法</span>），而不是按下 TAB 键</li>\n",
    "        <li>Spaces are always 1 space, tabs are what ever the editor is set to. Python 3 won't allow you to mix tabs and spaces for indentation. </li>\n",
    "        <li>虽然对此存在一些争议，但初学者应始终从使用空格开始</li>\n",
    "        <li>只有在需要与已经使用制表符缩进的代码保持一致时，才应使用制表符</li>\n",
    "    </ul>\n",
    "</span> "
   ]
  },
  {
   "cell_type": "markdown",
   "id": "396e4b15-aaf6-4ef1-ad41-1bf23e187ac1",
   "metadata": {},
   "source": [
    "<h2 style=\"font-family:'Microsoft YaHei'; font-size:24px; color:red\">\n",
    "Good news!\n",
    "</h2>\n",
    "<span style=\"font-family:Microsoft YaHei; font-size:20px; color:black\">   \n",
    "It is OK to hit tab key in Thonny -- it simply inserts 4 spaces instead of tab character.\n",
    "</span> "
   ]
  },
  {
   "cell_type": "markdown",
   "id": "ed0c2b95-0c81-47d9-8fc5-732453ae401c",
   "metadata": {},
   "source": [
    "<h2 style=\"font-family:'Microsoft YaHei'; font-size:24px; color:darkblue\">\n",
    "条件分支语句\n",
    "</h2>"
   ]
  },
  {
   "cell_type": "markdown",
   "id": "0c0e5ecf-7bd1-4e8e-ac84-733fcd45cf08",
   "metadata": {},
   "source": [
    "<span style=\"font-family:Microsoft YaHei; font-size:20px; color:#800080\">\n",
    "可以没有 elif，也可以没有 else，也可以都没有\n",
    "</span> "
   ]
  },
  {
   "cell_type": "markdown",
   "id": "11fead6b-7feb-4147-b8cb-03b47fe2301a",
   "metadata": {},
   "source": [
    "<div align=\"center\">\n",
    "<pre style=\"font-family:'Microsoft YaHei', monospace; font-size:20px; background-color:#FFF0E0; color:#333; padding:15px; border-radius:5px; overflow-x:auto; display:inline-block; text-align:left;\">\n",
    "<code>\n",
    "if 表达式1<span style=\"color:red;\">:</span>\n",
    "    语句组1\n",
    "elif 表达式2<span style=\"color:red;\">:</span>\n",
    "    语句组2\n",
    "    <span style=\"color:#333;\">...</span>\n",
    "elif 表达式n<span style=\"color:red;\">:</span>\n",
    "    语句组n\n",
    "</code>\n",
    "</pre>\n",
    "</div>"
   ]
  },
  {
   "cell_type": "markdown",
   "id": "578d639e-26e9-4354-8642-f8a3305d8da0",
   "metadata": {},
   "source": [
    "<div align=\"center\">\n",
    "<pre style=\"font-family:'Microsoft YaHei', monospace; font-size:20px; background-color:#FFF0E0; color:#333; padding:15px; border-radius:5px; overflow-x:auto; display:inline-block; text-align:left;\">\n",
    "<code>\n",
    "if 表达式1<span style=\"color:red;\">:</span>\n",
    "    语句组1\n",
    "else<span style=\"color:red;\">:</span>\n",
    "    语句组2\n",
    "</code>\n",
    "</pre>\n",
    "</div>"
   ]
  },
  {
   "cell_type": "markdown",
   "id": "d831d127-8163-4b87-b5a8-a1e16c455fd5",
   "metadata": {},
   "source": [
    "<div align=\"center\">\n",
    "<pre style=\"font-family:'Microsoft YaHei', monospace; font-size:20px; background-color:#FFF0E0; color:#333; padding:15px; border-radius:5px; overflow-x:auto; display:inline-block; text-align:left;\">\n",
    "<code>\n",
    "if 表达式1<span style=\"color:red;\">:</span>\n",
    "    语句组1\n",
    "</code>\n",
    "</pre>\n",
    "</div>"
   ]
  },
  {
   "attachments": {},
   "cell_type": "markdown",
   "id": "4dac190c-83a7-4ca3-adb1-f381b4041b7a",
   "metadata": {},
   "source": [
    "<h2 style=\"font-family:'Microsoft YaHei'; font-size:24px; color:darkblue\">\n",
    "条件分支语句的缩进\n",
    "</h2>\n",
    "<span style=\"font-family:Microsoft YaHei; font-size:20px; color:#800080\">\n",
    "Python程序的语句前面不能加空格或制表符，除非：\n",
    "</span> <br>\n",
    "<span style=\"font-family:Microsoft YaHei; font-size:20px; color:black; line-height: 2;\">\n",
    "1. 它在if语句中的某个“语句组”里面<br>\n",
    "2. 在 for ,while ....等语句的语句组里面<br>\n",
    "3. 在函数体里面<br>\n",
    "4.......\n",
    "</span> "
   ]
  },
  {
   "cell_type": "markdown",
   "id": "dffc3907-1ca2-417a-b49b-57d7ba8a46e8",
   "metadata": {},
   "source": [
    "<h2 style=\"font-family:'Microsoft YaHei'; font-size:24px; color:darkblue\">\n",
    "条件分支语句的缩进\n",
    "</h2>\n",
    "<span style=\"font-family:Microsoft YaHei; font-size:20px; color:#800080\">\n",
    "if 语句中的语句组，每条语句左边必须缩进，且缩进情况必须一样(对齐）\n",
    "</span> "
   ]
  },
  {
   "cell_type": "code",
   "execution_count": 42,
   "id": "f72a2093-6c0b-4d75-95d2-8f59a7f672fb",
   "metadata": {
    "scrolled": true
   },
   "outputs": [
    {
     "name": "stdin",
     "output_type": "stream",
     "text": [
      " 5\n"
     ]
    },
    {
     "name": "stdout",
     "output_type": "stream",
     "text": [
      "TV\n"
     ]
    }
   ],
   "source": [
    "if int(input()) == 5:\n",
    "    print(\"T\",end=\"\")   \n",
    "    print(\"V\")"
   ]
  },
  {
   "cell_type": "markdown",
   "id": "beb2a3c8-8699-4e7e-b556-6aa8a628bb8b",
   "metadata": {},
   "source": [
    "<span style=\"font-family:Microsoft YaHei; font-size:20px; color:black\">\n",
    "输入：5&nbsp;&nbsp;&nbsp;输出: TV<br>\n",
    "输入：4&nbsp;&nbsp;&nbsp;无输出\n",
    "</span> "
   ]
  },
  {
   "cell_type": "code",
   "execution_count": 43,
   "id": "e41aaa47-2e87-426d-b10e-39b11e385599",
   "metadata": {},
   "outputs": [
    {
     "name": "stdin",
     "output_type": "stream",
     "text": [
      " 4\n"
     ]
    },
    {
     "name": "stdout",
     "output_type": "stream",
     "text": [
      "V\n"
     ]
    }
   ],
   "source": [
    "if int(input()) == 5:   \n",
    "    print(\"T\",end=\"\")\n",
    "print(\"V\")"
   ]
  },
  {
   "cell_type": "markdown",
   "id": "fa0c34ed-d29f-4923-bc52-6b3bcf50c287",
   "metadata": {},
   "source": [
    "<span style=\"font-family:Microsoft YaHei; font-size:20px; color:black\">\n",
    "输入：4&nbsp;&nbsp;&nbsp;输出: V\n",
    "</span> "
   ]
  },
  {
   "cell_type": "code",
   "execution_count": 44,
   "id": "4ba02de2-fc00-4e17-823c-f416a3b17f6a",
   "metadata": {},
   "outputs": [],
   "source": [
    "#if int(input()) == 5:    \n",
    "#    print(\"T\",end=\"\")\n",
    "#  print(\"V\")"
   ]
  },
  {
   "cell_type": "markdown",
   "id": "8c647940-8afa-46c8-bc13-aaf91ae1c8f3",
   "metadata": {},
   "source": [
    "<span style=\"font-family:Microsoft YaHei; font-size:20px; color:red\">\n",
    "出错！没有对齐的缩进!\n",
    "</span> "
   ]
  },
  {
   "cell_type": "markdown",
   "id": "060545f0-5a8d-4932-b263-ada37823b03e",
   "metadata": {},
   "source": [
    "<h2 style=\"font-family:'Microsoft YaHei'; font-size:24px; color:darkblue\">\n",
    "相当于True或False的表达式\n",
    "</h2>"
   ]
  },
  {
   "cell_type": "code",
   "execution_count": 45,
   "id": "c29174cb-eb49-4090-8450-bc0cb9ec2de9",
   "metadata": {},
   "outputs": [
    {
     "name": "stdout",
     "output_type": "stream",
     "text": [
      "Good\n"
     ]
    }
   ],
   "source": [
    "if \"ok\":\n",
    "    print(\"Good\")\t"
   ]
  },
  {
   "cell_type": "code",
   "execution_count": 46,
   "id": "62202b29-f909-4dd4-8b14-430dbdf02fd1",
   "metadata": {},
   "outputs": [],
   "source": [
    "if \"\":    print(\"null string\")\t#无输出"
   ]
  },
  {
   "cell_type": "code",
   "execution_count": 47,
   "id": "14454995-4ccd-48d2-932a-475bd1637e34",
   "metadata": {},
   "outputs": [
    {
     "name": "stdout",
     "output_type": "stream",
     "text": [
      "[4, 2]\n",
      "20\n"
     ]
    }
   ],
   "source": [
    "a = [4,2]\n",
    "if a:  \n",
    "    print(a)\t\t\t\n",
    "if 20:    \n",
    "    print(20)\t\t\t\n",
    "if 0:    \n",
    "    print(0)\t\t\t"
   ]
  },
  {
   "cell_type": "markdown",
   "id": "d19a2603-44dd-484d-9900-653f335d0379",
   "metadata": {},
   "source": [
    "<h2 style=\"font-family:'Microsoft YaHei'; font-size:24px; color:darkblue\">\n",
    "if 语句示例\n",
    "</h2>"
   ]
  },
  {
   "cell_type": "markdown",
   "id": "0905a572-b229-4a22-91bf-a1079ad9c87e",
   "metadata": {},
   "source": [
    "<span style=\"font-family:Microsoft YaHei; font-size:20px; color:#800080\">\n",
    "例题:\n",
    "</span> \n",
    "<span style=\"font-family:Microsoft YaHei; font-size:20px; color:black\">\n",
    " 写一个判断整数奇偶性的程序，要求输入一个整数。如果是奇数，就输出“It's odd.”；如果是偶数，就输出“It's even.”。\n",
    "</span> "
   ]
  },
  {
   "cell_type": "code",
   "execution_count": 48,
   "id": "22c139d1-1d71-4bc9-b3d5-0f53bfe4b06f",
   "metadata": {},
   "outputs": [
    {
     "name": "stdin",
     "output_type": "stream",
     "text": [
      " 3\n"
     ]
    },
    {
     "name": "stdout",
     "output_type": "stream",
     "text": [
      "It's odd\n"
     ]
    }
   ],
   "source": [
    "if int(input()) % 2 == 1:  \n",
    "    print(\"It's odd\")\n",
    "else:    \n",
    "    print(\"It's even\")"
   ]
  },
  {
   "cell_type": "markdown",
   "id": "8ac383de-7fe3-4981-9077-2c4b21876f37",
   "metadata": {},
   "source": [
    "<span style=\"font-family:Microsoft YaHei; font-size:22px; color:black\">\n",
    "或者：<span style=\"color:red\">if int(input()) % 2: </span>\n",
    "</span> "
   ]
  },
  {
   "cell_type": "code",
   "execution_count": 49,
   "id": "8e5bc0ce-af6c-4b0e-8ee0-0b2ee4b32b1f",
   "metadata": {},
   "outputs": [
    {
     "name": "stdin",
     "output_type": "stream",
     "text": [
      " 4\n"
     ]
    },
    {
     "name": "stdout",
     "output_type": "stream",
     "text": [
      "It's even\n"
     ]
    }
   ],
   "source": [
    "if int(input()) % 2:  \n",
    "    print(\"It's odd\")\n",
    "else:    \n",
    "    print(\"It's even\")"
   ]
  },
  {
   "cell_type": "markdown",
   "id": "33a3e00d-2195-43e5-a097-e31db30ddf05",
   "metadata": {},
   "source": [
    "<h2 style=\"font-family:'Microsoft YaHei'; font-size:24px; color:darkblue\">\n",
    "if 语句嵌套\n",
    "</h2>\n",
    "<span style=\"font-family:Microsoft YaHei; font-size:20px; color:#800080\">\n",
    "在一条if语句的某个分支(语句组）里，还可以再写if语句。\n",
    "</span> "
   ]
  },
  {
   "cell_type": "code",
   "execution_count": 50,
   "id": "18c1c727-4c0f-47e7-95aa-dc1ffd2d552a",
   "metadata": {},
   "outputs": [
    {
     "name": "stdin",
     "output_type": "stream",
     "text": [
      " 3\n"
     ]
    },
    {
     "name": "stdout",
     "output_type": "stream",
     "text": [
      "Odd\n"
     ]
    }
   ],
   "source": [
    "a = int(input())\n",
    "if a > 0:\n",
    "    if a % 2:\n",
    "        print(\"Odd\")\n",
    "    else:\n",
    "        print(\"Even\")"
   ]
  },
  {
   "cell_type": "markdown",
   "id": "f361ce13-14af-4f40-a993-e6490c7972b5",
   "metadata": {},
   "source": [
    "<span style=\"font-family:Microsoft YaHei; font-size:20px; color:black\">\n",
    "输入:  4\t\t输出：Even <br>\n",
    "输入:  3\t\t输出：Odd<br>\n",
    "输入:  -1\t    无输出\n",
    "</span> "
   ]
  },
  {
   "cell_type": "code",
   "execution_count": 51,
   "id": "d2ad5a34-ff25-4533-8573-d7a240ed6aea",
   "metadata": {},
   "outputs": [
    {
     "name": "stdin",
     "output_type": "stream",
     "text": [
      " -1\n"
     ]
    },
    {
     "name": "stdout",
     "output_type": "stream",
     "text": [
      "Not positive\n"
     ]
    }
   ],
   "source": [
    "a = int(input())\n",
    "if a > 0:    \n",
    "    if a % 2:        \n",
    "        print(\"Odd\")\n",
    "else:  \n",
    "    print(\"Not positive\")"
   ]
  },
  {
   "cell_type": "markdown",
   "id": "1f730418-b2bd-4ac1-b493-22c5a2fc1b5c",
   "metadata": {},
   "source": [
    "<span style=\"font-family:Microsoft YaHei; font-size:20px; color:black\">\n",
    "输入:  4&nbsp;&nbsp;&nbsp;&nbsp;&nbsp;&nbsp;&nbsp;&nbsp;无输出<br>\n",
    "输入:  3&nbsp;&nbsp;&nbsp;&nbsp;&nbsp;&nbsp;&nbsp;&nbsp;输出：Odd<br>\n",
    "输入:  -1&nbsp;&nbsp;&nbsp;&nbsp;&nbsp;&nbsp;&nbsp;输出：Not positive<br>\n",
    "</span> "
   ]
  },
  {
   "cell_type": "markdown",
   "id": "b9d63fd6-9f9e-4ebf-aa03-9dc792ad5c91",
   "metadata": {},
   "source": [
    "<h2 style=\"font-family:'Microsoft YaHei'; font-size:24px; color:darkblue\">\n",
    "if 语句实例\n",
    "</h2>\n",
    "<span style=\"font-family:Microsoft YaHei; font-size:20px; color:#800080\">\n",
    "例：输入密码\n",
    "</span>"
   ]
  },
  {
   "cell_type": "code",
   "execution_count": 52,
   "id": "5214d747-2156-486c-8b17-1a6987016b5a",
   "metadata": {},
   "outputs": [
    {
     "name": "stdin",
     "output_type": "stream",
     "text": [
      "请输入密码： xcv\n"
     ]
    },
    {
     "name": "stdout",
     "output_type": "stream",
     "text": [
      "错了\n"
     ]
    }
   ],
   "source": [
    "password = \"meas\"\n",
    "userInput = input(\"请输入密码：\")   \n",
    "if userInput == password:  # == 判断两边的表达式值是否相等\n",
    "    print(\"对了!\")\n",
    "else:\n",
    "    print(\"错了\")"
   ]
  },
  {
   "attachments": {},
   "cell_type": "markdown",
   "id": "dca234bc-9e94-4390-b7b4-911093c0b3c1",
   "metadata": {},
   "source": [
    "<h2 style=\"font-family:'Microsoft YaHei'; font-size:24px; color:darkblue\">\n",
    "常见错误\n",
    "</h2>\n",
    "<h2 style=\"font-family:'Microsoft YaHei'; font-size:20px; color:red\">\n",
    "不要把 if ...else 或 if...elif...else  写成多个if\n",
    "</h2>\n",
    "\n"
   ]
  },
  {
   "attachments": {
    "f6edcd00-2e75-476b-bd00-7a3f0cc917dd.png": {
     "image/png": "[encoded data removed]"
    }
   },
   "cell_type": "markdown",
   "id": "7a3c55f7-79e5-42eb-83bf-3267d595efe6",
   "metadata": {},
   "source": [
    "<div style=\"text-align:center;\">\n",
    "  <img src=\"attachment:f6edcd00-2e75-476b-bd00-7a3f0cc917dd.png\" style=\"width:60%;\">\n",
    "</div>"
   ]
  },
  {
   "attachments": {},
   "cell_type": "markdown",
   "id": "3efde012-dfd0-44b5-a299-394a648e30ce",
   "metadata": {},
   "source": [
    "<h2 style=\"font-family:'Microsoft YaHei'; font-size:20px; color:black\">\n",
    "....中可能把a的值改成了 <= 5。写多个if，哪些代码会被执行，哪些不会被执行，很容易搞错。\n",
    "</h2>"
   ]
  },
  {
   "cell_type": "markdown",
   "id": "b27cf37f-5eaa-4752-9d46-27cf421416a0",
   "metadata": {},
   "source": [
    "<h1 style=\"font-family:'Microsoft YaHei'; font-size:30px; color:darkblue; text-align:center;\">\n",
    "分支语句例题\n",
    "</h1>"
   ]
  },
  {
   "cell_type": "markdown",
   "id": "1e9422c3-690b-4dd3-96b3-265e03125faa",
   "metadata": {},
   "source": [
    "<h2 style=\"font-family:'Microsoft YaHei'; font-size:22px; color:darkblue\">\n",
    "补充知识点：字符串切片\n",
    "</h2>\n",
    "<span style=\"font-family:Microsoft YaHei; font-size:20px; color:#800080\">\n",
    "若s是一个字符串，则：<br>\n",
    "s[x:y]&nbsp;&nbsp;&nbsp;是&nbsp;&nbsp;s&nbsp;&nbsp;的从下标x到<span style=\"color:red;\">下标y的左边</span>那个字符构成的子串(切片)，也就是<span style=\"color:red;\">[x,y)，“左闭右开”</span>\n",
    "</span>"
   ]
  },
  {
   "cell_type": "code",
   "execution_count": 53,
   "id": "36cc2201-936f-4cb3-8c22-4d41823137ed",
   "metadata": {},
   "outputs": [
    {
     "name": "stdout",
     "output_type": "stream",
     "text": [
      "23\n"
     ]
    }
   ],
   "source": [
    "print(\"12345\"[1:3])\t\t"
   ]
  },
  {
   "cell_type": "code",
   "execution_count": 54,
   "id": "db7b1716-1585-40f0-909c-058b2ec41d69",
   "metadata": {},
   "outputs": [
    {
     "name": "stdout",
     "output_type": "stream",
     "text": [
      "cde\n",
      "abcde\n"
     ]
    }
   ],
   "source": [
    "a = \"abcdef\"\n",
    "print(a[2:-1])\t\n",
    "print(a[0:5])\t\t"
   ]
  },
  {
   "cell_type": "markdown",
   "id": "2bcfee4e-9422-43aa-9f6b-538547df7d34",
   "metadata": {},
   "source": [
    "<h2 style=\"font-family:'Microsoft YaHei'; font-size:24px; color:darkblue\">\n",
    "if语句实例：温度转换程序\n",
    "</h2>"
   ]
  },
  {
   "cell_type": "code",
   "execution_count": 55,
   "id": "55dc83a2-03ba-48d3-bc77-00026e34ba63",
   "metadata": {},
   "outputs": [
    {
     "name": "stdin",
     "output_type": "stream",
     "text": [
      "请输入带有符号（Ff或者Cc）的温度值（如2.5c）： 50f\n"
     ]
    },
    {
     "name": "stdout",
     "output_type": "stream",
     "text": [
      "转换后的温度：10.0C\n"
     ]
    }
   ],
   "source": [
    "#tmpStr是变量名，随便取啥都行\n",
    "tmpStr = input(\"请输入带有符号（Ff或者Cc）的温度值（如2.5c）：\")  \n",
    "if tmpStr[-1] in 'Ffcc': \n",
    "    temp_value= float(tmpStr[0:-1]) #get the value only\n",
    "    \n",
    "    if tmpStr[-1] in 'Ff':  #如果输入华氏温度\n",
    "    \tC_value = (temp_value - 32 ) / 1.8\n",
    "    \tprint(\"转换后的温度：\" + str(C_value) + \"C\")\n",
    "    elif tmpStr[-1] in \"Cc\":  #如果输入摄氏温度\n",
    "    \tF_value = 1.8 * temp_value+ 32\n",
    "    \tprint(\"转换后的温度：\" + str(F_value) + \"F\") \n",
    "else:\n",
    "\tprint(\"输入格式错误！\") "
   ]
  },
  {
   "cell_type": "markdown",
   "id": "109fcd9f-01d9-42e7-ab67-d8f946bfce5d",
   "metadata": {},
   "source": [
    "<span style=\"font-family:Microsoft YaHei; font-size:20px; color:blue\">\n",
    "请输入带有符号（Ff或者Cc）的温度值（如2.5c）：50F<br>\n",
    "转换后的温度：10.0C<br><br>\n",
    "<span style=\"color:purple;\">请输入带有符号（Ff或者Cc）的温度值（如2.5c）：20C<br>\n",
    "转换后的温度：68.0F</span>\n",
    "</span> "
   ]
  }
 ],
 "metadata": {
  "kernelspec": {
   "display_name": "Python 3 (ipykernel)",
   "language": "python",
   "name": "python3"
  },
  "language_info": {
   "codemirror_mode": {
    "name": "ipython",
    "version": 3
   },
   "file_extension": ".py",
   "mimetype": "text/x-python",
   "name": "python",
   "nbconvert_exporter": "python",
   "pygments_lexer": "ipython3",
   "version": "3.13.5"
  }
 },
 "nbformat": 4,
 "nbformat_minor": 5
}
