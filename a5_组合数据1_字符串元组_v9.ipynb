{
 "cells": [
  {
   "cell_type": "markdown",
   "id": "7cf1cd6d-f8c3-4ec4-9468-50b76af56d36",
   "metadata": {},
   "source": [
    "<h1 style=\"font-family:'Microsoft YaHei'; font-size:36px; color:darkblue; text-align:center;\">\n",
    "Python组合数据类型(一)：字符串和元组\n",
    "</h1>"
   ]
  },
  {
   "attachments": {},
   "cell_type": "markdown",
   "id": "749f3f42-3ba7-4f55-8625-85601d4e8f40",
   "metadata": {},
   "source": [
    "<h2 style=\"font-family:'Microsoft YaHei'; font-size:24px; color:darkblue\">\n",
    "Python的数据类型\n",
    "</h2>\n",
    "<span style=\"font-family:Microsoft YaHei; font-size:20px; color:#800080\">\n",
    "基本数据类型\n",
    "</span><br>\n",
    "<span style=\"font-family:Microsoft YaHei; font-size:20px; color:black; line-height: 2;\">\n",
    "int, float, complex\n",
    "</span><br>\n",
    "<span style=\"font-family:Microsoft YaHei; font-size:20px; color:#800080\">\n",
    "组合数据类型\n",
    "</span><br>\n",
    "<span style=\"font-family:Microsoft YaHei; font-size:20px; color:black; line-height: 1.6;\">\n",
    "    字符串&emsp;&emsp;&emsp;&emsp;str<br>\n",
    "    元组&emsp;&emsp;&emsp;&emsp;&emsp;tuple<br>\n",
    "    列表&emsp;&emsp;&emsp;&emsp;&emsp;list<br>\n",
    "    字典&emsp;&emsp;&emsp;&emsp;&emsp;dict<br>\n",
    "    集合&emsp;&emsp;&emsp;&emsp;&emsp;set\n",
    "</span><br>"
   ]
  },
  {
   "cell_type": "markdown",
   "id": "4433547c-7d56-400e-9ec4-ee404f54f312",
   "metadata": {},
   "source": [
    "<h2 style=\"font-family:'Microsoft YaHei'; font-size:24px; color:darkblue\">\n",
    "isinstance函数\n",
    "</h2>\n",
    "<span style=\"font-family:Microsoft YaHei; font-size:20px; color:#800080\">\n",
    "isinstance&nbsp;(x,&nbsp;y)&nbsp;函数查询数据 x 是否是类型 y\n",
    "</span>"
   ]
  },
  {
   "cell_type": "code",
   "execution_count": 1,
   "id": "d8443daa-1860-456c-ae81-d929862247cb",
   "metadata": {},
   "outputs": [
    {
     "name": "stdout",
     "output_type": "stream",
     "text": [
      "True\n",
      "False\n"
     ]
    }
   ],
   "source": [
    "a = \"1233\"\n",
    "print(isinstance(a,str))\n",
    "print(isinstance(a,int))"
   ]
  },
  {
   "cell_type": "markdown",
   "id": "fd9b8e1a-127e-4a9f-8830-69fc3b99c6f7",
   "metadata": {},
   "source": [
    "<h1 style=\"font-family:'Microsoft YaHei'; font-size:36px; color:darkblue; text-align:center;\">\n",
    "字符串 String\n",
    "</h1>"
   ]
  },
  {
   "cell_type": "markdown",
   "id": "d2d26de2-859e-463e-ad69-526efa2627fa",
   "metadata": {},
   "source": [
    "<h2 style=\"font-family:'Microsoft YaHei'; font-size:24px; color:darkblue\">\n",
    "字符串切片 (子串) 详解\n",
    "</h2>\n",
    "<span style=\"font-family:Microsoft YaHei; font-size:20px; color:#800080\">\n",
    "字符串的切片，也叫子串，即字符串的一部分。\n",
    "</span>"
   ]
  },
  {
   "cell_type": "markdown",
   "id": "d1aa69bb-9b7f-4f4e-a1e3-281012ca2bd6",
   "metadata": {},
   "source": [
    "<span style=\"font-family:Microsoft YaHei; font-size:20px; color:red\">\n",
    "substring = s[start : end : step]\n",
    "</span>"
   ]
  },
  {
   "cell_type": "markdown",
   "id": "461e0370-be39-4bd3-8c34-bd7cd9a395c9",
   "metadata": {},
   "source": [
    "<span style=\"font-family:Microsoft YaHei; font-size:20px; color:black\">\n",
    "s: The original string.<br>\n",
    "start (optional): Starting index (<span style=\"color:red;\">inclusive</span>). <span style=\"color:blue;\">Defaults to 0 if omitted.</span><br>\n",
    "end (optional): Stopping index (<span style=\"color:red;\">exclusive</span>). <span style=\"color:blue;\">Defaults to the end of the string if omitted.</span><br>\n",
    "step (optional): Interval between indices. A positive value slices from left to right, while a negative value slices from right to left. <span style=\"color:blue;\">If omitted, it defaults to 1 (no skipping of characters).</span><br>\n",
    "</span>"
   ]
  },
  {
   "cell_type": "code",
   "execution_count": 2,
   "id": "af02df67-1dc9-4495-8108-6ca310697ebb",
   "metadata": {},
   "outputs": [
    {
     "name": "stdout",
     "output_type": "stream",
     "text": [
      "ha\n",
      "Changzho\n",
      "ho\n"
     ]
    }
   ],
   "source": [
    "a = \"Changzhou\"\t\t\n",
    "print (a[1:3]) \n",
    "print (a[0:-1])\n",
    "print (a[-3:-1])"
   ]
  },
  {
   "cell_type": "code",
   "execution_count": 3,
   "id": "5f49e51c-baff-4127-b13a-8985677e07e9",
   "metadata": {},
   "outputs": [
    {
     "name": "stdout",
     "output_type": "stream",
     "text": [
      "angzhou\n",
      "Cha\n"
     ]
    }
   ],
   "source": [
    "print (a[2:]) #a=\"Changzhou\"\n",
    "print (a[:3])"
   ]
  },
  {
   "cell_type": "code",
   "execution_count": 4,
   "id": "32375d76-6e61-4f70-a9bd-a9816273fe63",
   "metadata": {},
   "outputs": [
    {
     "name": "stdout",
     "output_type": "stream",
     "text": [
      "hnz\n",
      "na\n"
     ]
    }
   ],
   "source": [
    "print(a[1:7:2]) #a=\"Changzhou\"\n",
    "print(a[3:1:-1])"
   ]
  },
  {
   "cell_type": "markdown",
   "id": "89372261-54c7-4c2d-9e6f-01b7d3240697",
   "metadata": {},
   "source": [
    "<span style=\"font-family:Microsoft YaHei; font-size:20px; color:#800080\">\n",
    "字符串切片的用法也适用于元组和列表！\n",
    "</span> "
   ]
  },
  {
   "cell_type": "markdown",
   "id": "38585989-efc9-4aa8-baa0-7ca6164c7504",
   "metadata": {},
   "source": [
    "<h1 style=\"font-family:'Microsoft YaHei'; font-size:24px; color:darkblue; \">\n",
    "字符串函数\n",
    "</h1>  "
   ]
  },
  {
   "cell_type": "code",
   "execution_count": 5,
   "id": "3d777781-b367-4063-80b6-0def86aa49e4",
   "metadata": {},
   "outputs": [
    {
     "name": "stdout",
     "output_type": "stream",
     "text": [
      "25\n",
      "I LOVE LIYANG AND NANJING\n",
      "i love liyang and nanjing\n",
      "4\n",
      "I love Changzhou and Nanjing\n"
     ]
    }
   ],
   "source": [
    "s = 'I love Liyang and Nanjing'\n",
    "print(len(s))\n",
    "print(s.upper())\n",
    "print(s.lower())\n",
    "print(s.count('n'))\n",
    "print(s.replace(\"Liyang\",\"Changzhou\"))"
   ]
  },
  {
   "cell_type": "markdown",
   "id": "6df33cb2-2fac-4aa1-b091-d3a2daa71264",
   "metadata": {},
   "source": [
    "<h1 style=\"font-family:'Microsoft YaHei'; font-size:24px; color:darkblue; \">\n",
    "其他字符串函数\n",
    "</h1>  "
   ]
  },
  {
   "cell_type": "markdown",
   "id": "a42558bb-68e4-4dd1-8daf-d9fc5d2ecc15",
   "metadata": {},
   "source": [
    "<span style=\"font-family:Microsoft YaHei; font-size:20px; color:blue\">\n",
    "str.join (x) 返回将序列 x 中的<span style=\"color:red;\">各项</span>用 str 连接起来而得到的字符串\n",
    "</span> "
   ]
  },
  {
   "attachments": {},
   "cell_type": "markdown",
   "id": "4660524c-a842-4a78-bdf3-a0965671aacb",
   "metadata": {},
   "source": [
    "<h2 style=\"font-family:Microsoft YaHei; font-size:22px; color:#800080\">\n",
    "string.join ( iterable )\n",
    "</h2> \n",
    "<span style=\"font-family:Microsoft YaHei; font-size:20px; color:black\">\n",
    "A string must be specified as the separator.<br>\n",
    "iterable&nbsp;&nbsp;&nbsp;<span style=\"color:red;\">Required. </span>Any iterable object 可迭代类型( list, tuple, dictionary, and set ) where all the returned values are strings\n",
    "</span> "
   ]
  },
  {
   "cell_type": "code",
   "execution_count": 6,
   "id": "0ddb67bf-9f07-4e68-902a-55d293e8c087",
   "metadata": {},
   "outputs": [
    {
     "name": "stdout",
     "output_type": "stream",
     "text": [
      "<class 'str'>\n",
      "I**love**NUAA\n"
     ]
    }
   ],
   "source": [
    "x=\"**\".join([\"I\", \"love\", \"NUAA\"])\n",
    "print(type(x))\n",
    "print(x)"
   ]
  },
  {
   "cell_type": "code",
   "execution_count": 7,
   "id": "df0d290f-1e18-4382-8e24-ed60935c2d34",
   "metadata": {},
   "outputs": [
    {
     "name": "stdout",
     "output_type": "stream",
     "text": [
      "<class 'str'>\n",
      "I-@-@-love-@-@-China\n"
     ]
    }
   ],
   "source": [
    "x=\"-@-@-\".join([\"I\", \"love\", \"China\"])\n",
    "print(type(x))\n",
    "print(x)"
   ]
  },
  {
   "cell_type": "markdown",
   "id": "0a86684b-08d7-44ff-987c-284eecda1456",
   "metadata": {},
   "source": [
    "<h1 style=\"font-family:'Microsoft YaHei'; font-size:24px; color:darkblue; \">\n",
    "其他字符串函数\n",
    "</h1>  "
   ]
  },
  {
   "attachments": {},
   "cell_type": "markdown",
   "id": "d796c394-5056-4488-bf4f-be049e8d8178",
   "metadata": {},
   "source": [
    "<h2 style=\"font-family:Microsoft YaHei; font-size:22px; color:#800080\">\n",
    "string.find (value, start, end)\n",
    "</h2> \n",
    "<span style=\"font-family:Microsoft YaHei; font-size:20px; color:black\">\n",
    "value&nbsp;&nbsp;<span style=\"color:blue;\">Required.</span> The value to search for<br>\n",
    "start&nbsp;&nbsp;&nbsp;Optional. Where to start the search. Default is 0<br>\n",
    "end&nbsp;&nbsp;&nbsp;&nbsp;Optional. Where to end the search. Default is to the end of the string<br>\n",
    "在字符串中查找子串，返回子串<span style=\"color:red;\">第一次出现</span>的位置 (下标)。找不到的话，find 返回-1。\n",
    "</span> "
   ]
  },
  {
   "cell_type": "code",
   "execution_count": 8,
   "id": "7edae88a-fb18-4148-81c0-314fdffc45e7",
   "metadata": {},
   "outputs": [
    {
     "name": "stdout",
     "output_type": "stream",
     "text": [
      "2\n",
      "-1\n"
     ]
    }
   ],
   "source": [
    "txt = \"I am Tom, and I am 18 years old.\"\n",
    "x = txt.find(\"am\")\n",
    "print(x)\n",
    "y = txt.find(\"Nanjing\")\n",
    "print(y)"
   ]
  },
  {
   "cell_type": "code",
   "execution_count": 9,
   "id": "682e3db7-b032-4fbd-8928-cfabc2a93d7b",
   "metadata": {},
   "outputs": [
    {
     "name": "stdout",
     "output_type": "stream",
     "text": [
      "16\n"
     ]
    }
   ],
   "source": [
    "x = txt.find(\"am\",5)\n",
    "print(x)"
   ]
  },
  {
   "attachments": {},
   "cell_type": "markdown",
   "id": "506707d2-ec0c-4774-a90b-2ac8c8a63431",
   "metadata": {},
   "source": [
    "<h2 style=\"font-family:Microsoft YaHei; font-size:22px; color:#800080\">\n",
    "rfind ( )\n",
    "</h2> \n",
    "<span style=\"font-family:Microsoft YaHei; font-size:20px; color:black\">\n",
    "与 find ( ) 非常相似，只是这里返回子串<span style=\"color:red;\">最后</span>出现的位置。\n",
    "</span>"
   ]
  },
  {
   "cell_type": "code",
   "execution_count": 10,
   "id": "ebb616f5-10dc-491f-8126-30a2f9e3635e",
   "metadata": {},
   "outputs": [
    {
     "name": "stdout",
     "output_type": "stream",
     "text": [
      "16\n",
      "-1\n"
     ]
    }
   ],
   "source": [
    "txt = \"I am Tom, and I am 18 years old.\"\n",
    "x = txt.rfind(\"am\")\n",
    "print(x)\n",
    "y = txt.rfind(\"Nanjing\")\n",
    "print(y)"
   ]
  },
  {
   "attachments": {},
   "cell_type": "markdown",
   "id": "bfc05952-f53f-41eb-a984-bc767af9c10e",
   "metadata": {},
   "source": [
    "<h2 style=\"font-family:Microsoft YaHei; font-size:22px; color:#800080\">\n",
    "index ( )\n",
    "</h2> \n",
    "<span style=\"font-family:Microsoft YaHei; font-size:20px; color:black\">\n",
    "与 find ( ) 非常相似，返回子串<span style=\"color:blue;\">第一次出现</span>的位置(下标)。只是子串找不到时，会<span style=\"color:red;\">引发异常</span>。\n",
    "</span>"
   ]
  },
  {
   "cell_type": "code",
   "execution_count": 11,
   "id": "da73b603-b6b8-4759-92cb-9b4e2fc175dd",
   "metadata": {},
   "outputs": [
    {
     "name": "stdout",
     "output_type": "stream",
     "text": [
      "2\n"
     ]
    }
   ],
   "source": [
    "txt = \"I am Tom, and I am 18 years old.\"\n",
    "x = txt.index(\"am\")\n",
    "print(x)"
   ]
  },
  {
   "cell_type": "code",
   "execution_count": 12,
   "id": "0dc30856-0e8a-4153-b3ec-71d8a544137d",
   "metadata": {},
   "outputs": [],
   "source": [
    "#y = txt.index(\"Nanjing\")\n",
    "#print(y)"
   ]
  },
  {
   "cell_type": "code",
   "execution_count": 13,
   "id": "b9474b86-f00e-4f46-9591-e0ae3a4918c3",
   "metadata": {},
   "outputs": [
    {
     "name": "stdout",
     "output_type": "stream",
     "text": [
      "substring not found\n"
     ]
    }
   ],
   "source": [
    "try:\n",
    "    y = txt.index(\"Nanjing\")\n",
    "    print(y)\n",
    "except Exception as e:\n",
    "    print(e)"
   ]
  },
  {
   "attachments": {},
   "cell_type": "markdown",
   "id": "ff6a6662-40bb-4cf4-b4b1-e3ff8f216052",
   "metadata": {},
   "source": [
    "<h2 style=\"font-family:Microsoft YaHei; font-size:22px; color:#800080\">\n",
    "rindex ( )\n",
    "</h2> \n",
    "<span style=\"font-family:Microsoft YaHei; font-size:20px; color:black\">\n",
    "与 rfind ( ) 非常相似，返回子串<span style=\"color:blue;\">最后一次出现</span>的位置(下标)。只是子串找不到时，会<span style=\"color:red;\">引发异常</span>。\n",
    "</span>"
   ]
  },
  {
   "cell_type": "code",
   "execution_count": 14,
   "id": "1a19d838-b5ca-4bbb-8518-ccfaf4082b58",
   "metadata": {},
   "outputs": [
    {
     "name": "stdout",
     "output_type": "stream",
     "text": [
      "16\n"
     ]
    }
   ],
   "source": [
    "txt = \"I am Tom, and I am 18 years old.\"\n",
    "x = txt.rindex(\"am\")\n",
    "print(x)"
   ]
  },
  {
   "cell_type": "code",
   "execution_count": 15,
   "id": "b2ebf99a-97f5-4d65-9a08-0b73f5df228a",
   "metadata": {},
   "outputs": [],
   "source": [
    "#y = txt.rindex(\"Nanjing\")\n",
    "#print(y)"
   ]
  },
  {
   "cell_type": "markdown",
   "id": "8b142b89-e245-4515-8e7e-5b49361131e9",
   "metadata": {},
   "source": [
    "<h1 style=\"font-family:'Microsoft YaHei'; font-size:24px; color:darkblue; \">\n",
    "其他字符串函数\n",
    "</h1>  "
   ]
  },
  {
   "cell_type": "markdown",
   "id": "9c2a94d5-df2f-4c54-bb52-0b89a8912a83",
   "metadata": {},
   "source": [
    "<span style=\"font-family:Microsoft YaHei; font-size:20px; color:#800080\">\n",
    "&nbsp;&nbsp;isdigit ( ) &nbsp;&nbsp;&nbsp;&nbsp;判断字符串是否全部都是数字<br>\n",
    "<span style=\"color:blue;\">islower ( ) &nbsp;&nbsp;&nbsp;&nbsp;判断字符串其中的字母是否都是小写</span><br>\n",
    "isupper ( ) &nbsp;&nbsp;&nbsp;判断字符串其中的字母是否都是大写\n",
    "</span> "
   ]
  },
  {
   "cell_type": "code",
   "execution_count": 16,
   "id": "5a0ec493-64d5-44b9-9986-9fffb2324fbc",
   "metadata": {},
   "outputs": [
    {
     "name": "stdout",
     "output_type": "stream",
     "text": [
      "True\n",
      "False\n"
     ]
    }
   ],
   "source": [
    "print(\"123\".isdigit())  \n",
    "print(\"a123.4\".isdigit()) "
   ]
  },
  {
   "cell_type": "code",
   "execution_count": 17,
   "id": "36cd0213-dc61-49b6-8878-2c67723cb548",
   "metadata": {},
   "outputs": [
    {
     "name": "stdout",
     "output_type": "stream",
     "text": [
      "False\n",
      "True\n",
      "True\n"
     ]
    }
   ],
   "source": [
    "print(\"AbCdeF123\".islower())  \n",
    "print(\"abcdef\".islower())  \n",
    "print(\"abcdef123\".islower())  "
   ]
  },
  {
   "cell_type": "code",
   "execution_count": 18,
   "id": "e500cebf-3f89-4562-aea4-57d7568e7606",
   "metadata": {},
   "outputs": [
    {
     "name": "stdout",
     "output_type": "stream",
     "text": [
      "False\n",
      "True\n",
      "True\n"
     ]
    }
   ],
   "source": [
    "print(\"AbCdeF\".isupper())  \n",
    "print(\"ABCDEF\".isupper())  \n",
    "print(\"ABCDEF123\".isupper())  "
   ]
  },
  {
   "cell_type": "markdown",
   "id": "416c53f8-6fc3-4444-bb9c-39d6194a1319",
   "metadata": {},
   "source": [
    "<h1 style=\"font-family:'Microsoft YaHei'; font-size:24px; color:darkblue; \">\n",
    "其他字符串函数\n",
    "</h1>  "
   ]
  },
  {
   "cell_type": "markdown",
   "id": "766a652d-5942-48e3-b9cd-fd307428ef52",
   "metadata": {},
   "source": [
    "<span style=\"font-family:Microsoft YaHei; font-size:20px; color:black\">\n",
    "startswith, endswith 判断字符串是否以某子串开头、结尾。<br>\n",
    "是，则返回 True；否，则返回 False。\n",
    "</span>  "
   ]
  },
  {
   "cell_type": "markdown",
   "id": "8432fd29-cf99-4d82-8b6a-debbc61db8ef",
   "metadata": {},
   "source": [
    "<h2 style=\"font-family:Microsoft YaHei; font-size:20px; color:#800080\">\n",
    "string.startswith (value, start, end)\n",
    "</h2> \n",
    "<span style=\"font-family:Microsoft YaHei; font-size:20px; color:black\">\n",
    "value&nbsp;&nbsp;&nbsp;&nbsp;<span style=\"color:red;\">Required.</span> The value to check if the string starts with. <span style=\"color:blue;\">This value parameter can also be a tuple, then the method returns True if the string starts with any of the tuple values.</span><br>\n",
    "start&nbsp;&nbsp;&nbsp;&nbsp;&nbsp;Optional. An Integer specifying at which position to start the search<br>\n",
    "end&nbsp;&nbsp;&nbsp;&nbsp;&nbsp;&nbsp;Optional. An Integer specifying at which position to end the search\n",
    "</span> "
   ]
  },
  {
   "cell_type": "code",
   "execution_count": 19,
   "id": "a2187eb3-3fdd-479c-8fd1-ee69b9a93865",
   "metadata": {},
   "outputs": [
    {
     "name": "stdout",
     "output_type": "stream",
     "text": [
      "True\n"
     ]
    }
   ],
   "source": [
    "print(\"abcd\".startswith(\"ab\"))  "
   ]
  },
  {
   "cell_type": "code",
   "execution_count": 20,
   "id": "9778bf9b-c0c8-4f06-b099-2551b8064e79",
   "metadata": {},
   "outputs": [
    {
     "name": "stdout",
     "output_type": "stream",
     "text": [
      "False\n"
     ]
    }
   ],
   "source": [
    "print(\"abcd\".startswith(\"ab\",2))  "
   ]
  },
  {
   "cell_type": "code",
   "execution_count": 21,
   "id": "9e09a4e1-5243-46c4-8155-628fd97f0dc8",
   "metadata": {},
   "outputs": [
    {
     "name": "stdout",
     "output_type": "stream",
     "text": [
      "True\n",
      "False\n"
     ]
    }
   ],
   "source": [
    "txt = \"Hello, welcome to my world.\"\n",
    "x = txt.startswith(\"wel\", 7, 20)\n",
    "print(x)\n",
    "x = txt.startswith(\"wel\", 2, 20)\n",
    "print(x)"
   ]
  },
  {
   "cell_type": "code",
   "execution_count": 22,
   "id": "a7bda029-bf85-41f2-95a3-f7d8e9db911e",
   "metadata": {},
   "outputs": [
    {
     "name": "stdout",
     "output_type": "stream",
     "text": [
      "True\n"
     ]
    }
   ],
   "source": [
    "y = txt.startswith((\"Hello\", \"Hi\")) #(\"Hello\", \"Hi\") is a tuple\n",
    "print(y)"
   ]
  },
  {
   "cell_type": "code",
   "execution_count": 23,
   "id": "2f6ca739-5065-4d7d-9a64-b404d339d5f3",
   "metadata": {},
   "outputs": [
    {
     "name": "stdout",
     "output_type": "stream",
     "text": [
      "True\n",
      "False\n"
     ]
    }
   ],
   "source": [
    "print(\"abcd\".endswith(\"bcd\"))\n",
    "print(\"abcd\".endswith(\"bed\"))"
   ]
  },
  {
   "cell_type": "markdown",
   "id": "9233433e-3c9f-450f-853d-dc826e6baafb",
   "metadata": {},
   "source": [
    "<h1 style=\"font-family:'Microsoft YaHei'; font-size:24px; color:darkblue; \">\n",
    "其他字符串函数\n",
    "</h1>  "
   ]
  },
  {
   "cell_type": "markdown",
   "id": "f8c40d0c-1df0-4d6d-982c-219192fee706",
   "metadata": {},
   "source": [
    "<h2 style=\"font-family:Microsoft YaHei; font-size:22px; color:blue\">\n",
    "string.strip (characters) 返回除去头尾特定字符后的字符串\n",
    "</h2> \n",
    "<span style=\"font-family:Microsoft YaHei; font-size:20px; color:black\">\n",
    "characters\t&nbsp;&nbsp;Optional. A set of characters to remove as leading/trailing characters.<br>\n",
    "Leading means at the beginning of the string, trailing means at the end.<br>\n",
    "<span style=\"color:red;\">You can specify which character(s) to remove, if not, any whitespaces 空白字符（空格，'\\r'，'\\t'，'\\n'）will be removed</span>.\n",
    "</span> "
   ]
  },
  {
   "cell_type": "code",
   "execution_count": 24,
   "id": "f005403d-293b-41cd-be9a-d0a915557801",
   "metadata": {},
   "outputs": [
    {
     "name": "stdout",
     "output_type": "stream",
     "text": [
      " \t banana \n",
      " \n",
      "Of all fruits, banana is my favorite.\n"
     ]
    }
   ],
   "source": [
    "txt=\" \\t banana \\n \"\n",
    "print(txt)\n",
    "x=txt.strip()\n",
    "print(f\"Of all fruits, {x} is my favorite.\")"
   ]
  },
  {
   "cell_type": "markdown",
   "id": "95459de8-1203-47fd-b1f9-69f89576e5c2",
   "metadata": {},
   "source": [
    "<h2 style=\"font-family:Microsoft YaHei; font-size:22px; color:blue\">\n",
    "空白字符 '\\r'\n",
    "</h2> \n",
    "<span style=\"font-family:Microsoft YaHei; font-size:20px; color:black\">\n",
    "在Python中，\\r 是一个特殊的转义字符，用于在字符串中表示回车符（Carriage Return）。它的作用是将光标移到当前行的开头，这样可以实现<span style=\"color:red;\">在同一行上连续输出不同的内容</span>。\n",
    "</span> "
   ]
  },
  {
   "cell_type": "markdown",
   "id": "cc76484c-9955-4ca8-9ecb-aacd4dfae991",
   "metadata": {},
   "source": [
    "<h2 style=\"font-family:Microsoft YaHei; font-size:22px; color:blue\">\n",
    "字符串重复\n",
    "</h2> "
   ]
  },
  {
   "cell_type": "markdown",
   "id": "86191e3c-7a44-4891-ac87-379114089607",
   "metadata": {},
   "source": [
    "<h2 style=\"font-family:Microsoft YaHei; font-size:22px; color:blue\">\n",
    "new_string = original_string * n\n",
    "</h2> \n",
    "<span style=\"font-family:Microsoft YaHei; font-size:20px; color:black\">\n",
    "original_string : The string we want to repeat.<br>\n",
    "&nbsp;&nbsp;&nbsp;&nbsp;&nbsp;&nbsp;&nbsp;&nbsp;&nbsp;&nbsp;&nbsp;&nbsp;n &nbsp;&nbsp;&nbsp;&nbsp;&nbsp;&nbsp;&nbsp;&nbsp;&nbsp;: The number of times we want to repeat the string.\n",
    "</span> "
   ]
  },
  {
   "cell_type": "code",
   "execution_count": 25,
   "id": "d01c1f6e-5170-4571-9e92-bffdbc0f0644",
   "metadata": {},
   "outputs": [
    {
     "name": "stdout",
     "output_type": "stream",
     "text": [
      "NUAANUAANUAA\n"
     ]
    }
   ],
   "source": [
    "# original string\n",
    "a = \"NUAA\"\n",
    "\n",
    "# Multiply the string and store\n",
    "# it in a new string\n",
    "b = a*3\n",
    "print(b)"
   ]
  },
  {
   "cell_type": "code",
   "execution_count": 26,
   "id": "e9744d2a-0009-4a3c-b5a3-f57e3e0ae5c7",
   "metadata": {},
   "outputs": [
    {
     "name": "stdout",
     "output_type": "stream",
     "text": [
      "[##########]"
     ]
    }
   ],
   "source": [
    "#使用 \\r 实现进度条\n",
    "import time\n",
    "for i in range(10):\n",
    "    progress = \"[\" + \"#\" * (i+1) + \" \" * (9-i) + \"]\"\n",
    "    print(progress, end=\"\\r\")\n",
    "    time.sleep(0.5)"
   ]
  },
  {
   "cell_type": "code",
   "execution_count": 27,
   "id": "4085597a-5688-4a36-9a69-6ad4f348a19c",
   "metadata": {},
   "outputs": [
    {
     "name": "stdout",
     "output_type": "stream",
     "text": [
      "[#         ]\n",
      "[##        ]\n",
      "[###       ]\n",
      "[####      ]\n",
      "[#####     ]\n",
      "[######    ]\n",
      "[#######   ]\n",
      "[########  ]\n",
      "[######### ]\n",
      "[##########]\n"
     ]
    }
   ],
   "source": [
    "for i in range(10):\n",
    "    progress = \"[\" + \"#\" * (i+1) + \" \" * (9-i) + \"]\"\n",
    "    print(progress, end=\"\\n\")\n",
    "    time.sleep(0.5)"
   ]
  },
  {
   "cell_type": "code",
   "execution_count": 28,
   "id": "b45ced07-4fee-4b91-a63d-9a954b444a06",
   "metadata": {},
   "outputs": [
    {
     "name": "stdout",
     "output_type": "stream",
     "text": [
      "加载完成！               \n"
     ]
    }
   ],
   "source": [
    "#使用 \\r 清空输出\n",
    "print(\"正在加载，请稍候...\", end=\"\\r\")\n",
    "time.sleep(2)\n",
    "print(\" \"*20, end=\"\\r\")\n",
    "print(\"加载完成！\")"
   ]
  },
  {
   "cell_type": "code",
   "execution_count": 29,
   "id": "7984308a-bbba-4588-bd20-54b8c5648e46",
   "metadata": {},
   "outputs": [
    {
     "name": "stdout",
     "output_type": "stream",
     "text": [
      "[                   *]"
     ]
    }
   ],
   "source": [
    "#使用 \\r 实现动画效果\n",
    "for i in range(20):\n",
    "    left_spaces = \" \" * i\n",
    "    right_spaces = \" \" * (19-i)\n",
    "    text = \"[\" + left_spaces + \"*\" + right_spaces + \"]\"\n",
    "    print(text, end=\"\\r\")\n",
    "    time.sleep(0.1)"
   ]
  },
  {
   "cell_type": "markdown",
   "id": "4686bbc3-958a-42c5-b79e-f8b8e0a2c9ae",
   "metadata": {},
   "source": [
    "<h2 style=\"font-family:Microsoft YaHei; font-size:22px; color:blue\">\n",
    "string.strip (characters) 返回除去头尾特定字符后的字符串\n",
    "</h2> \n",
    "<span style=\"font-family:Microsoft YaHei; font-size:20px; color:black\">\n",
    "它在遇到一个不属于指定字符串characters中的字符时，就会停止从两端继续去除字符。<br>\n",
    "It stops stripping characters from both ends once it encounters a character that is not in the specified set of characters.\n",
    "</span>"
   ]
  },
  {
   "cell_type": "code",
   "execution_count": 30,
   "id": "59d81459-1c59-430f-b7b1-5fd1b936e0d4",
   "metadata": {},
   "outputs": [
    {
     "name": "stdout",
     "output_type": "stream",
     "text": [
      "banana\n"
     ]
    }
   ],
   "source": [
    "txt = \",,,,,rrttgg.....banana....rrr\"\n",
    "x = txt.strip(\",.grt\")\n",
    "print(x)"
   ]
  },
  {
   "cell_type": "markdown",
   "id": "41f1820d-58c5-4861-8b3d-0bc0f4250abf",
   "metadata": {},
   "source": [
    "<span style=\"font-family:Microsoft YaHei; font-size:20px; color: blue\">\n",
    "lstrip( ) 返回除去头部（左端）空白字符后的字符串\n",
    "</span>"
   ]
  },
  {
   "cell_type": "code",
   "execution_count": 31,
   "id": "42a82de4-5479-408d-a67c-663366a0bbfa",
   "metadata": {},
   "outputs": [
    {
     "name": "stdout",
     "output_type": "stream",
     "text": [
      "12 34 5 **is the result!\n"
     ]
    }
   ],
   "source": [
    "txt=\" \\t12 34 5 \"\n",
    "x = txt.lstrip()\n",
    "print (f\"{x}**is the result!\") "
   ]
  },
  {
   "cell_type": "markdown",
   "id": "3244bc19-4a82-4746-b9f0-b8cbda9dc6c0",
   "metadata": {},
   "source": [
    "<span style=\"font-family:Microsoft YaHei; font-size:20px; color: blue\">\n",
    "rstrip( )  返回除去尾部（右端）空白字符后的字符串\n",
    "</span>"
   ]
  },
  {
   "cell_type": "code",
   "execution_count": 32,
   "id": "da264afa-20e9-473c-80b8-be1d72e0b977",
   "metadata": {},
   "outputs": [
    {
     "name": "stdout",
     "output_type": "stream",
     "text": [
      " \t12 34 5**is the result!\n"
     ]
    }
   ],
   "source": [
    "txt=\" \\t12 34 5  \"\n",
    "x = txt.rstrip()\n",
    "print (f\"{x}**is the result!\") "
   ]
  },
  {
   "cell_type": "markdown",
   "id": "ea7542df-521d-4c2d-bae3-8580b4a109c9",
   "metadata": {},
   "source": [
    "<h1 style=\"font-family:'Microsoft YaHei'; font-size:30px; color:darkblue; text-align:center;\">\n",
    "元  组 Tuple\n",
    "</h1>"
   ]
  },
  {
   "cell_type": "markdown",
   "id": "f3663082-6c36-4c12-826e-3ad5c63a861b",
   "metadata": {},
   "source": [
    "<h2 style=\"font-family:Microsoft YaHei; font-size:24px; color:darkblue\">\n",
    "元组 Tuple\n",
    "</h2> \n",
    "<span style=\"font-family:Microsoft YaHei; font-size:20px; color:black\">\n",
    "一个元组由多个逗号分隔的值组成。<span style=\"color:blue;\">前后可加括号，也可不加括号。</span><br>\n",
    "\"There are two possible pronunciations, one to rhyme with <span style=\"color:purple;\">two pull (/tupəl/)</span> and the other with supple (/tʌpəl/). Take your pick. There will always be someone to agree with you... violently :)\"<br>\n",
    "\"It should be pronounced to rhyme with quintuple, sextuple, octuple, etc., since these are its origins.\"\n",
    "</span> "
   ]
  },
  {
   "cell_type": "code",
   "execution_count": 33,
   "id": "1a851b8d-4dc4-4625-b944-45b7cc05231b",
   "metadata": {},
   "outputs": [
    {
     "name": "stdout",
     "output_type": "stream",
     "text": [
      "<class 'tuple'>\n",
      "()\n"
     ]
    }
   ],
   "source": [
    "tuple_0=() #empty tuple\n",
    "print(type(tuple_0))\n",
    "print(tuple_0)"
   ]
  },
  {
   "cell_type": "code",
   "execution_count": 34,
   "id": "f67d6e1c-61d2-4fa2-ad33-5bd3fa14956b",
   "metadata": {},
   "outputs": [
    {
     "name": "stdout",
     "output_type": "stream",
     "text": [
      "<class 'tuple'>\n",
      "(100, 200, 'hello!', 400, 500)\n"
     ]
    }
   ],
   "source": [
    "tuple_1 = 100, 200, 'hello!',400,500\n",
    "print(type(tuple_1))\n",
    "print(tuple_1)"
   ]
  },
  {
   "cell_type": "markdown",
   "id": "f98e8e07-20bd-45b4-9198-6ed8ad4aadb9",
   "metadata": {},
   "source": [
    "<span style=\"font-family:Microsoft YaHei; font-size:20px; color:#800080\">\n",
    "用下标访问元组，以及元组切片：用法和字符串一样\n",
    "</span> "
   ]
  },
  {
   "cell_type": "code",
   "execution_count": 35,
   "id": "c1816297-1006-43f6-80dd-63c4602d1f86",
   "metadata": {},
   "outputs": [
    {
     "name": "stdout",
     "output_type": "stream",
     "text": [
      "100\n"
     ]
    }
   ],
   "source": [
    "print(tuple_1[0])"
   ]
  },
  {
   "cell_type": "code",
   "execution_count": 36,
   "id": "bba60cce-f6f6-459c-80d2-bce8952f86ea",
   "metadata": {},
   "outputs": [
    {
     "name": "stdout",
     "output_type": "stream",
     "text": [
      "(200, 'hello!', 400)\n"
     ]
    }
   ],
   "source": [
    "print(tuple_1[1:4])"
   ]
  },
  {
   "cell_type": "code",
   "execution_count": 37,
   "id": "4930e59d-a31b-4d8d-86ae-e0944b3b456c",
   "metadata": {},
   "outputs": [
    {
     "name": "stdout",
     "output_type": "stream",
     "text": [
      "(500, 'hello!')\n"
     ]
    }
   ],
   "source": [
    "print(tuple_1[-1:0:-2])"
   ]
  },
  {
   "cell_type": "markdown",
   "id": "7f4af4c8-c5dd-4783-9dda-2ba301f9442c",
   "metadata": {},
   "source": [
    "<span style=\"font-family:Microsoft YaHei; font-size:20px; color:purple\">\n",
    "元组的遍历：<span style=\"color:blue;\">for 循环</span>\n",
    "</span>"
   ]
  },
  {
   "cell_type": "code",
   "execution_count": 38,
   "id": "49d73771-977d-424c-ba4c-375c5b9be853",
   "metadata": {},
   "outputs": [
    {
     "name": "stdout",
     "output_type": "stream",
     "text": [
      "100 200 hello! 400 500 "
     ]
    }
   ],
   "source": [
    "for i in tuple_1:\n",
    "    print(i, end =\" \")"
   ]
  },
  {
   "cell_type": "markdown",
   "id": "40751b15-b700-429e-981e-1588126f82ec",
   "metadata": {},
   "source": [
    "<h2 style=\"font-family:Microsoft YaHei; font-size:20px; color:red\">\n",
    "元组不能修改\n",
    "</h2> \n",
    "<span style=\"font-family:Microsoft YaHei; font-size:20px; color:#800080\">\n",
    "不可以对元素赋值、不可以增加/删除元素、不可以修改元素顺序（如排序)。\n",
    "</span> "
   ]
  },
  {
   "cell_type": "code",
   "execution_count": 39,
   "id": "eab01728-d32f-424e-9cf4-9c9b26483fdd",
   "metadata": {},
   "outputs": [],
   "source": [
    "#tuple_1[0] = 888  #运行错误，元组的元素不能赋值"
   ]
  },
  {
   "cell_type": "markdown",
   "id": "c0c427e7-c674-4042-958d-e3231de057be",
   "metadata": {},
   "source": [
    "<span style=\"font-family:Microsoft YaHei; font-size:20px; color:blue\">\n",
    "<span style=\"color:purple;\">例外：可以给表示元组的变量赋新值</span><br>\n",
    "Although you can't modify a tuple, you can assign a new value to a variable that represents a tuple. \n",
    "</span> "
   ]
  },
  {
   "cell_type": "code",
   "execution_count": 40,
   "id": "173b4f9e-53c7-40dd-902e-de6afab862be",
   "metadata": {},
   "outputs": [
    {
     "name": "stdout",
     "output_type": "stream",
     "text": [
      "(300, 400)\n"
     ]
    }
   ],
   "source": [
    "tuple_1 =300, 400\n",
    "print(tuple_1)"
   ]
  },
  {
   "cell_type": "markdown",
   "id": "fc860643-9fe2-48fa-a430-8d0fc25f513a",
   "metadata": {},
   "source": [
    "<span style=\"font-family:Microsoft YaHei; font-size:24px; color:darkblue\">\n",
    "元组可嵌套\n",
    "</span> "
   ]
  },
  {
   "cell_type": "code",
   "execution_count": 41,
   "id": "1aa52d68-d1f2-4753-a68c-189419468dc8",
   "metadata": {},
   "outputs": [
    {
     "name": "stdout",
     "output_type": "stream",
     "text": [
      "((300, 400), (1, 2, 3, 4, 5))\n"
     ]
    }
   ],
   "source": [
    "tuple_p = tuple_1, (1, 2, 3, 4, 5) #tuple_p有两个元素，这两个元素都是元组\n",
    "print(tuple_p)\t"
   ]
  },
  {
   "cell_type": "code",
   "execution_count": 42,
   "id": "890b4aa5-f27f-471f-8776-d81060a8a63a",
   "metadata": {},
   "outputs": [
    {
     "name": "stdout",
     "output_type": "stream",
     "text": [
      "(300, 400)\n",
      "400\n"
     ]
    }
   ],
   "source": [
    "print(tuple_p[0])\n",
    "print(tuple_p[0][1])"
   ]
  },
  {
   "cell_type": "markdown",
   "id": "f9dcd6ac-8bde-47d6-b794-b4dd795b83c8",
   "metadata": {},
   "source": [
    "<h2 style=\"font-family:Microsoft YaHei; font-size:24px; color:darkblue\">\n",
    "元组打包 packing 与解包 unpacking\n",
    "</h2> \n",
    "<span style=\"font-family:Microsoft YaHei; font-size:20px; color:black\">\n",
    "<span style=\"color:blue;\">打包</span> ：将多个值存储在一个元组中。<br>\n",
    "通过在一个语句中将多个值用<span style=\"color:red;\">逗号分隔</span>来完成。"
   ]
  },
  {
   "cell_type": "code",
   "execution_count": 43,
   "id": "93c2c805-3481-49b5-a5a1-9dfd2856078e",
   "metadata": {},
   "outputs": [
    {
     "name": "stdout",
     "output_type": "stream",
     "text": [
      "(7, 8, 9)\n"
     ]
    }
   ],
   "source": [
    "tuple_2= 7, 8, 9\n",
    "print(tuple_2)"
   ]
  },
  {
   "cell_type": "code",
   "execution_count": 44,
   "id": "e46cff38-498b-4fcf-9b02-360ad518fed0",
   "metadata": {},
   "outputs": [
    {
     "name": "stdout",
     "output_type": "stream",
     "text": [
      "Compute surface area and volume of a cylinder\n",
      "Surface area = 37.70, and Volume = 37.70\n"
     ]
    }
   ],
   "source": [
    "import math\n",
    "\n",
    "def Calc(r, h):\n",
    "    area = 2 * math.pi * r *h\n",
    "    volume = math.pi * r * r * h\n",
    "    return area, volume #return a tuple\n",
    "    \n",
    "print(\"Compute surface area and volume of a cylinder\")    \n",
    "radius = 2.0\n",
    "height = 3.0\n",
    "area, vol = Calc(radius, height)\n",
    "print(f\"Surface area = {area:.2f}, and Volume = {vol:.2f}\" )"
   ]
  },
  {
   "cell_type": "markdown",
   "id": "a411c1ee-acbb-4fcf-b757-bd6c237d0dfb",
   "metadata": {},
   "source": [
    "<span style=\"font-family:Microsoft YaHei; font-size:20px; color:black\">\n",
    "<span style=\"color:blue;\">解包</span>：从一个元组中取出多个值，并将它们分配给多个变量。\n",
    "</span> "
   ]
  },
  {
   "cell_type": "code",
   "execution_count": 45,
   "id": "ec9efd99-15e8-49a4-b8d3-20012e3a8fe3",
   "metadata": {},
   "outputs": [
    {
     "name": "stdout",
     "output_type": "stream",
     "text": [
      "7 8 9\n"
     ]
    }
   ],
   "source": [
    "a, b, c= tuple_2 #tuple_2= 7, 8, 9\n",
    "print(a, b, c)"
   ]
  },
  {
   "cell_type": "markdown",
   "id": "06a7afaf-7989-4fcc-8c9e-4ca812fb0f83",
   "metadata": {},
   "source": [
    "<span style=\"font-family:Microsoft YaHei; font-size:20px; color:red\">\n",
    "注意：变量与元素数量需匹配，否则会引发 ValueError 异常。"
   ]
  },
  {
   "cell_type": "code",
   "execution_count": 46,
   "id": "749f68d5-50f7-4d85-bd18-e4e3e79c32ac",
   "metadata": {},
   "outputs": [],
   "source": [
    "#a, b= tuple_2 #error"
   ]
  },
  {
   "cell_type": "markdown",
   "id": "60984305-2ad0-4aa3-a931-f53711c493cc",
   "metadata": {},
   "source": [
    "<span style=\"font-family:Microsoft YaHei; font-size:20px; color:blue\">\n",
    "可使用 * 运算符来捕获剩余的值"
   ]
  },
  {
   "cell_type": "code",
   "execution_count": 47,
   "id": "aeedf8b1-7a04-4ef6-9523-c03ef6b6af9b",
   "metadata": {},
   "outputs": [
    {
     "name": "stdout",
     "output_type": "stream",
     "text": [
      "7\n",
      "[8, 9]\n"
     ]
    }
   ],
   "source": [
    "a, *rest= tuple_2\n",
    "print(a, rest, sep=\"\\n\")"
   ]
  },
  {
   "cell_type": "markdown",
   "id": "5e4f0528-ce3c-473f-aaf5-4a9b9ae9e6dc",
   "metadata": {},
   "source": [
    "<span style=\"font-family:Microsoft YaHei; font-size:20px; color:red\">\n",
    "变量 rest 被赋值为一个列表，包含元组 tuple_2 中剩余的元素"
   ]
  },
  {
   "cell_type": "markdown",
   "id": "fd7714bc-142f-4482-b121-6dd658b3dbd7",
   "metadata": {},
   "source": [
    "<span style=\"font-family:Microsoft YaHei; font-size:20px; color:darkblue\">\n",
    "可使用 _ 占位符来丢弃不需要的值"
   ]
  },
  {
   "cell_type": "code",
   "execution_count": 48,
   "id": "146f7e7a-f243-4cd5-82dc-dcf2136c73a4",
   "metadata": {},
   "outputs": [
    {
     "name": "stdout",
     "output_type": "stream",
     "text": [
      "7 9\n"
     ]
    }
   ],
   "source": [
    "a, _, c = tuple_2\n",
    "print(a, c)"
   ]
  },
  {
   "cell_type": "markdown",
   "id": "fc96c0b0-49d5-44fc-98a3-8d8ce4b357e5",
   "metadata": {},
   "source": [
    "<span style=\"font-family:Microsoft YaHei; font-size:20px; color:blue\">\n",
    "列表也可以解包\n",
    "</span> "
   ]
  },
  {
   "cell_type": "code",
   "execution_count": 2,
   "id": "f552dacd-251e-444f-a205-ff655543d086",
   "metadata": {},
   "outputs": [
    {
     "name": "stdout",
     "output_type": "stream",
     "text": [
      "apple banana orange pear\n",
      "apple pear\n"
     ]
    }
   ],
   "source": [
    "list_2= [\"apple\", \"banana\", \"orange\", \"pear\"]\n",
    "q, r, s, t= list_2\n",
    "print(q, r, s, t)\n",
    "q, *_, t= list_2\n",
    "print(q, t)"
   ]
  },
  {
   "cell_type": "markdown",
   "id": "ee2110ba-1f0a-4203-bd3b-109118f4617f",
   "metadata": {},
   "source": [
    "<span style=\"font-family:Microsoft YaHei; font-size:24px; color:darkblue\">\n",
    "元组运算\n",
    "</span> "
   ]
  },
  {
   "cell_type": "markdown",
   "id": "c184bee8-065d-4257-b712-f678a1956603",
   "metadata": {},
   "source": [
    "<span style=\"font-family:Microsoft YaHei; font-size:20px; color:#800080\">\n",
    "+：可以对元组进行连接组合，建立一个新的元组\n",
    "</span> "
   ]
  },
  {
   "cell_type": "code",
   "execution_count": 50,
   "id": "268da8ba-e153-4152-aecf-6fb56c342b8d",
   "metadata": {},
   "outputs": [
    {
     "name": "stdout",
     "output_type": "stream",
     "text": [
      "(12, 34.56, 'abc', 'xyz')\n"
     ]
    }
   ],
   "source": [
    "tuple_a = (12, 34.56)\n",
    "tuple_b = ('abc', 'xyz')\n",
    "\n",
    "tuple_c = tuple_a + tuple_b\n",
    "print (tuple_c)"
   ]
  },
  {
   "cell_type": "code",
   "execution_count": 51,
   "id": "814a8661-fbb9-4859-b62f-0e8b0d80bf8a",
   "metadata": {},
   "outputs": [
    {
     "name": "stdout",
     "output_type": "stream",
     "text": [
      "(12, 34.56, 'abc', 'xyz', 10, 20)\n"
     ]
    }
   ],
   "source": [
    "tuple_c += (10,20) # tuple_c=tuple_c+(10,20)\n",
    "print(tuple_c)"
   ]
  },
  {
   "cell_type": "code",
   "execution_count": 52,
   "id": "b7dad173-a6d9-4df6-a6d1-5421e7b0d91a",
   "metadata": {},
   "outputs": [
    {
     "name": "stdout",
     "output_type": "stream",
     "text": [
      "(1, 2, 3, 1, 2, 3, 1, 2, 3)\n"
     ]
    }
   ],
   "source": [
    "tuple_d = (1,2,3) * 3\n",
    "print(tuple_d)"
   ]
  },
  {
   "cell_type": "code",
   "execution_count": 53,
   "id": "1d7bd7ee-d634-4da4-959b-fb20a6802881",
   "metadata": {},
   "outputs": [
    {
     "name": "stdout",
     "output_type": "stream",
     "text": [
      "True\n"
     ]
    }
   ],
   "source": [
    "print( 3 in tuple_d) #check membership"
   ]
  },
  {
   "cell_type": "markdown",
   "id": "8f9f1474-ca4e-4dbe-a44f-5bde0b3acae8",
   "metadata": {},
   "source": [
    "<h2 style=\"font-family:'Microsoft YaHei'; font-size:22px; color:purple\">\n",
    "元组比大小\n",
    "</h2>\n",
    "<span style=\"font-family:Microsoft YaHei; font-size:20px; color:blue\">\n",
    "两个元组比大小，就是逐个元素比大小，直到分出胜负。\n",
    "</span> "
   ]
  },
  {
   "cell_type": "code",
   "execution_count": 54,
   "id": "9f8d36cc-8ec1-4bab-9873-9b3a3f0ad3ab",
   "metadata": {},
   "outputs": [
    {
     "name": "stdout",
     "output_type": "stream",
     "text": [
      "True\n"
     ]
    }
   ],
   "source": [
    "print((1,'x',12 ) < (1,'y',7))\t "
   ]
  },
  {
   "cell_type": "markdown",
   "id": "53504065-4137-4236-b0c6-b1648800136b",
   "metadata": {},
   "source": [
    "<span style=\"font-family:Microsoft YaHei; font-size:20px; color:black\">\n",
    "如果元组 a 的最后一个元素都比完了还胜负未分，但元组 b 比元组 a 长，则元组 b 比元组 a 大。\n",
    "</span> "
   ]
  },
  {
   "cell_type": "code",
   "execution_count": 55,
   "id": "5f68c8e6-ba16-44dd-b3af-3842b3b8c36d",
   "metadata": {},
   "outputs": [
    {
     "name": "stdout",
     "output_type": "stream",
     "text": [
      "False\n"
     ]
    }
   ],
   "source": [
    "print((1,'x') > (1,'x',7))\t "
   ]
  },
  {
   "cell_type": "markdown",
   "id": "a7e94e9a-12ae-4142-b753-4aa784f1eb43",
   "metadata": {},
   "source": [
    "<span style=\"font-family:Microsoft YaHei; font-size:20px; color:red\">\n",
    "如果有两个对应元素不可比大小，则出 runtime error。\n",
    "</span> "
   ]
  },
  {
   "cell_type": "code",
   "execution_count": 56,
   "id": "334033c7-8d5f-4321-a429-f66dbe212da1",
   "metadata": {},
   "outputs": [],
   "source": [
    "#print((2,'x' ) < ('xy','y',13))    # runtime error"
   ]
  },
  {
   "cell_type": "markdown",
   "id": "62ccdd59-38e0-4fb6-8ce1-aaa70aa72977",
   "metadata": {},
   "source": [
    "<h2 style=\"font-family:'Microsoft YaHei'; font-size:24px; color:darkblue\">\n",
    "什么时候用元组？\n",
    "</h2>\n",
    "<span style=\"font-family:Microsoft YaHei; font-size:20px; color:#800080\">\n",
    "Compared with lists, tuples are simple data structures. Use them when you want to store a set of values that should not be changed throughout the life of a program.\n",
    "</span> "
   ]
  },
  {
   "cell_type": "markdown",
   "id": "76bfcc49-ad4d-462a-89e8-a2e492d66e78",
   "metadata": {},
   "source": [
    "<h1 style=\"font-family:'Microsoft YaHei'; font-size:30px; color:darkblue; text-align:center;\">\n",
    "用元组取代复杂的分支结构\n",
    "</h1>"
   ]
  },
  {
   "cell_type": "markdown",
   "id": "7338ff46-be37-434c-8c40-771ce4c14d77",
   "metadata": {},
   "source": [
    "<h2 style=\"font-family:'Microsoft YaHei'; font-size:24px; color:darkblue\">\n",
    "元组\n",
    "</h2>\n",
    "<span style=\"font-family:Microsoft YaHei; font-size:20px; color:#800080\">\n",
    "输入 1-7，相应输出星期一到星期天。<br>\n",
    "这个问题如果用 if..elif 语句解决，就要写很多个 elif ，不太方便。\n",
    "</span> "
   ]
  },
  {
   "cell_type": "code",
   "execution_count": 57,
   "id": "a0f2d248-91e4-46d3-ab5f-91ecfe46ffa0",
   "metadata": {},
   "outputs": [
    {
     "name": "stdin",
     "output_type": "stream",
     "text": [
      "Please enter a number (1-7):  4\n"
     ]
    },
    {
     "name": "stdout",
     "output_type": "stream",
     "text": [
      "Day 4 is Thursday!\n"
     ]
    }
   ],
   "source": [
    "weekdays = \"Monday\",\"Tuesday\",\"Wednesday\",\"Thursday\", \\\n",
    "           \"Friday\",\"Saturday\",\"Sunday\"\n",
    "n = int(input(\"Please enter a number (1-7): \"))\n",
    "if  n > 7 or n < 1:\n",
    "\tprint(\"Illegal!\")\n",
    "else:\n",
    "\tprint(f\"Day {n} is {weekdays[n-1]}!\")"
   ]
  },
  {
   "cell_type": "code",
   "execution_count": 58,
   "id": "24cf065a-8da5-4177-ac5f-1f27e0d0c4fa",
   "metadata": {},
   "outputs": [],
   "source": [
    "#weekdays [0]=\"Wednesday\""
   ]
  },
  {
   "cell_type": "markdown",
   "id": "06d48383-c116-4a8d-953e-3e85bde57eb4",
   "metadata": {},
   "source": [
    "<h2 style=\"font-family:'Microsoft YaHei'; font-size:24px; color:darkblue\">\n",
    "那如果换成列表呢？\n",
    "</h2>"
   ]
  },
  {
   "cell_type": "code",
   "execution_count": 59,
   "id": "dcbac09e-cb5c-458e-b46a-143a0e8d9c2e",
   "metadata": {},
   "outputs": [
    {
     "name": "stdout",
     "output_type": "stream",
     "text": [
      "<class 'list'>\n"
     ]
    },
    {
     "name": "stdin",
     "output_type": "stream",
     "text": [
      "Please enter a number (1-7):  4\n"
     ]
    },
    {
     "name": "stdout",
     "output_type": "stream",
     "text": [
      "Day 4 is Thursday!\n"
     ]
    }
   ],
   "source": [
    "weekdays_new = [\"Monday\",\"Tuesday\",\"Wednesday\",\"Thursday\", \\\n",
    "           \"Friday\",\"Saturday\",\"Sunday\"]\n",
    "print(type(weekdays_new))\n",
    "n = int(input(\"Please enter a number (1-7): \"))\n",
    "if  n > 7 or n < 1:\n",
    "\tprint(\"Illegal!\")\n",
    "else:\n",
    "\tprint(f\"Day {n} is {weekdays_new[n-1]}!\")"
   ]
  },
  {
   "cell_type": "code",
   "execution_count": 60,
   "id": "e4b3b75b-6fe5-4977-a592-86aef00ae070",
   "metadata": {},
   "outputs": [
    {
     "name": "stdout",
     "output_type": "stream",
     "text": [
      "['Wednesday', 'Tuesday', 'Wednesday', 'Thursday', 'Friday', 'Saturday', 'Sunday']\n"
     ]
    }
   ],
   "source": [
    "weekdays_new [0]=\"Wednesday\" #Oh, no!\n",
    "print(weekdays_new)"
   ]
  }
 ],
 "metadata": {
  "kernelspec": {
   "display_name": "Python 3 (ipykernel)",
   "language": "python",
   "name": "python3"
  },
  "language_info": {
   "codemirror_mode": {
    "name": "ipython",
    "version": 3
   },
   "file_extension": ".py",
   "mimetype": "text/x-python",
   "name": "python",
   "nbconvert_exporter": "python",
   "pygments_lexer": "ipython3",
   "version": "3.13.5"
  }
 },
 "nbformat": 4,
 "nbformat_minor": 5
}
