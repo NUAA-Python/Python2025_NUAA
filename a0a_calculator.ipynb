{
 "cells": [
  {
   "cell_type": "markdown",
   "id": "bbfaba34-4a1e-461e-9c90-6c548177be16",
   "metadata": {},
   "source": [
    "<h2 style=\"font-family:'Microsoft YaHei'; font-size:24px; color:darkblue\">\n",
    "ctrl+ENTER：执行当前代码\n",
    "</h2>"
   ]
  },
  {
   "cell_type": "code",
   "execution_count": 1,
   "id": "941feeeb-119b-45e5-a69e-eeaf7c565be0",
   "metadata": {},
   "outputs": [
    {
     "data": {
      "text/plain": [
       "3"
      ]
     },
     "execution_count": 1,
     "metadata": {},
     "output_type": "execute_result"
    }
   ],
   "source": [
    "1+2"
   ]
  },
  {
   "cell_type": "markdown",
   "id": "5d379fdc-d0ab-4c7f-b7d8-d8c86f4cdc28",
   "metadata": {},
   "source": [
    "<span style=\"font-size:22px\">\n",
    "计算: \n",
    "\\(\n",
    "\\frac{3 \\times 4}{\\left(2^2 + 4/2\\right)}\n",
    "\\)\n",
    "</span>"
   ]
  },
  {
   "cell_type": "code",
   "execution_count": 2,
   "id": "68869500-df35-4cf2-b88a-c8287be9cbde",
   "metadata": {},
   "outputs": [
    {
     "data": {
      "text/plain": [
       "2.0"
      ]
     },
     "execution_count": 2,
     "metadata": {},
     "output_type": "execute_result"
    }
   ],
   "source": [
    "(3*4)/(2**2 + 4/2)"
   ]
  },
  {
   "cell_type": "markdown",
   "id": "a3c9473d-bc25-4a7d-94cc-bebaece3bad4",
   "metadata": {},
   "source": [
    "<span style=\"font-size:22px\">\n",
    "或者逐个计算：\n",
    "</span>"
   ]
  },
  {
   "cell_type": "code",
   "execution_count": 3,
   "id": "a18c7da0-6a3d-4dca-86ce-39aad1ccb893",
   "metadata": {},
   "outputs": [
    {
     "data": {
      "text/plain": [
       "0.75"
      ]
     },
     "execution_count": 3,
     "metadata": {},
     "output_type": "execute_result"
    }
   ],
   "source": [
    "3/4"
   ]
  },
  {
   "cell_type": "code",
   "execution_count": 4,
   "id": "59785e9c-aac9-4c02-bb26-d05b3d22537e",
   "metadata": {},
   "outputs": [
    {
     "data": {
      "text/plain": [
       "1.5"
      ]
     },
     "execution_count": 4,
     "metadata": {},
     "output_type": "execute_result"
    }
   ],
   "source": [
    "_*2"
   ]
  },
  {
   "cell_type": "code",
   "execution_count": 5,
   "id": "50d900d9-7a4c-44c2-99a9-30df3accb612",
   "metadata": {},
   "outputs": [
    {
     "data": {
      "text/plain": [
       "3.375"
      ]
     },
     "execution_count": 5,
     "metadata": {},
     "output_type": "execute_result"
    }
   ],
   "source": [
    "_**3"
   ]
  },
  {
   "cell_type": "markdown",
   "id": "e55eb361-771d-42bd-94f7-efa6bb3d4a10",
   "metadata": {},
   "source": [
    "<span style=\"font-size:22px\">\n",
    "应用Python基本的算术函数，如sin、cos、tan、asin、acos、atan、exp、log、log10和sqrt。<br>这些都集成在math模块（或称“库”）内。使用时，先导入该模块\n",
    "</span>"
   ]
  },
  {
   "cell_type": "code",
   "execution_count": 6,
   "id": "513120a6-8df6-4b69-a871-d79aab852618",
   "metadata": {},
   "outputs": [],
   "source": [
    "import math"
   ]
  },
  {
   "cell_type": "markdown",
   "id": "e344c65e-212a-4400-89d6-254648e618e0",
   "metadata": {},
   "source": [
    "<span style=\"font-size:22px\">\n",
    "例：计算4的平方根\n",
    "</span>"
   ]
  },
  {
   "cell_type": "code",
   "execution_count": 7,
   "id": "aff6e866-6946-4d03-ab2f-9247925e557f",
   "metadata": {},
   "outputs": [
    {
     "data": {
      "text/plain": [
       "2.0"
      ]
     },
     "execution_count": 7,
     "metadata": {},
     "output_type": "execute_result"
    }
   ],
   "source": [
    "math.sqrt(4)"
   ]
  },
  {
   "cell_type": "code",
   "execution_count": 8,
   "id": "1dbd0f43-8cae-43f5-bae3-cc57746dab8b",
   "metadata": {},
   "outputs": [
    {
     "data": {
      "text/plain": [
       "1.0"
      ]
     },
     "execution_count": 8,
     "metadata": {},
     "output_type": "execute_result"
    }
   ],
   "source": [
    "math.sin(math.pi/2)"
   ]
  },
  {
   "cell_type": "code",
   "execution_count": 9,
   "id": "658cad5f-85c1-487f-8a68-898c8cc42a86",
   "metadata": {},
   "outputs": [
    {
     "data": {
      "text/plain": [
       "2.117000016612675"
      ]
     },
     "execution_count": 9,
     "metadata": {},
     "output_type": "execute_result"
    }
   ],
   "source": [
    "math.exp(3/4)"
   ]
  },
  {
   "cell_type": "code",
   "execution_count": 10,
   "id": "c3f55469-d37e-49a0-ba65-6966a9e9d6c7",
   "metadata": {},
   "outputs": [
    {
     "data": {
      "text/plain": [
       "2.718281828459045"
      ]
     },
     "execution_count": 10,
     "metadata": {},
     "output_type": "execute_result"
    }
   ],
   "source": [
    "math.exp(1)"
   ]
  },
  {
   "cell_type": "code",
   "execution_count": 11,
   "id": "49dc0fe6-ed14-4e7e-a854-706524e86afe",
   "metadata": {},
   "outputs": [
    {
     "data": {
      "text/plain": [
       "2.718281828459045"
      ]
     },
     "execution_count": 11,
     "metadata": {},
     "output_type": "execute_result"
    }
   ],
   "source": [
    "math.e"
   ]
  },
  {
   "cell_type": "code",
   "execution_count": 12,
   "id": "cbe8b6bf-abcd-4df4-a1cb-845a914deebe",
   "metadata": {},
   "outputs": [
    {
     "data": {
      "text/plain": [
       "0.75"
      ]
     },
     "execution_count": 12,
     "metadata": {},
     "output_type": "execute_result"
    }
   ],
   "source": [
    "math.log(math.exp(3/4))"
   ]
  },
  {
   "cell_type": "code",
   "execution_count": 13,
   "id": "b21904de-3222-4741-a2b4-aaf52341ecf5",
   "metadata": {},
   "outputs": [
    {
     "data": {
      "text/plain": [
       "3.0"
      ]
     },
     "execution_count": 13,
     "metadata": {},
     "output_type": "execute_result"
    }
   ],
   "source": [
    "math.log10(1e3)"
   ]
  },
  {
   "cell_type": "code",
   "execution_count": 14,
   "id": "9f1095a2-026c-4e1f-a9e6-5405ce788056",
   "metadata": {},
   "outputs": [
    {
     "data": {
      "text/plain": [
       "(2+5j)"
      ]
     },
     "execution_count": 14,
     "metadata": {},
     "output_type": "execute_result"
    }
   ],
   "source": [
    "2+5j"
   ]
  },
  {
   "cell_type": "code",
   "execution_count": 15,
   "id": "9df03a14-d0d4-4c63-bb0e-2801a6a74643",
   "metadata": {},
   "outputs": [
    {
     "data": {
      "text/plain": [
       "(2+5j)"
      ]
     },
     "execution_count": 15,
     "metadata": {},
     "output_type": "execute_result"
    }
   ],
   "source": [
    "complex(2,5)"
   ]
  },
  {
   "cell_type": "code",
   "execution_count": 16,
   "id": "8f000875-3304-4c29-82b0-daf912be1592",
   "metadata": {},
   "outputs": [
    {
     "data": {
      "text/plain": [
       "1000.0"
      ]
     },
     "execution_count": 16,
     "metadata": {},
     "output_type": "execute_result"
    }
   ],
   "source": [
    "1e3"
   ]
  },
  {
   "cell_type": "code",
   "execution_count": 17,
   "id": "64050f90-58e1-4ee6-bfe0-6f57e03979ef",
   "metadata": {},
   "outputs": [
    {
     "data": {
      "text/plain": [
       "94608000.0"
      ]
     },
     "execution_count": 17,
     "metadata": {},
     "output_type": "execute_result"
    }
   ],
   "source": [
    "3e0*3.65e2*2.4e1*3.6e3"
   ]
  },
  {
   "cell_type": "code",
   "execution_count": 18,
   "id": "bffd2a67-e78a-4a98-b62f-0a9313b73acb",
   "metadata": {},
   "outputs": [
    {
     "data": {
      "text/plain": [
       "int"
      ]
     },
     "execution_count": 18,
     "metadata": {},
     "output_type": "execute_result"
    }
   ],
   "source": [
    "type(1234)"
   ]
  },
  {
   "cell_type": "code",
   "execution_count": 19,
   "id": "7d478c8c-e14d-4f34-a205-f047bc13d12c",
   "metadata": {},
   "outputs": [
    {
     "data": {
      "text/plain": [
       "float"
      ]
     },
     "execution_count": 19,
     "metadata": {},
     "output_type": "execute_result"
    }
   ],
   "source": [
    "type(12.34)"
   ]
  },
  {
   "cell_type": "code",
   "execution_count": 20,
   "id": "16822a6f-74a0-4ea1-8c76-3348c13dd674",
   "metadata": {},
   "outputs": [
    {
     "data": {
      "text/plain": [
       "complex"
      ]
     },
     "execution_count": 20,
     "metadata": {},
     "output_type": "execute_result"
    }
   ],
   "source": [
    "type(2 + 5j)"
   ]
  }
 ],
 "metadata": {
  "kernelspec": {
   "display_name": "Python 3 (ipykernel)",
   "language": "python",
   "name": "python3"
  },
  "language_info": {
   "codemirror_mode": {
    "name": "ipython",
    "version": 3
   },
   "file_extension": ".py",
   "mimetype": "text/x-python",
   "name": "python",
   "nbconvert_exporter": "python",
   "pygments_lexer": "ipython3",
   "version": "3.13.5"
  }
 },
 "nbformat": 4,
 "nbformat_minor": 5
}
